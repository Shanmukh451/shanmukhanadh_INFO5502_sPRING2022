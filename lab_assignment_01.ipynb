{
  "cells": [
    {
      "cell_type": "markdown",
      "metadata": {
        "id": "view-in-github",
        "colab_type": "text"
      },
      "source": [
        "<a href=\"https://colab.research.google.com/github/Shanmukh451/shanmukhanadh_INFO5502_sPRING2022/blob/main/lab_assignment_01.ipynb\" target=\"_parent\"><img src=\"https://colab.research.google.com/assets/colab-badge.svg\" alt=\"Open In Colab\"/></a>"
      ]
    },
    {
      "cell_type": "markdown",
      "metadata": {
        "id": "DymRJbxDBCnf"
      },
      "source": [
        "# **The first Lab-assignment (01/25/2022, 50 points in total)**"
      ]
    },
    {
      "cell_type": "markdown",
      "metadata": {
        "id": "jJDe71iLB616"
      },
      "source": [
        "(1) Write a Python program to count the number of characters in a string. (5 points)\n",
        "\n",
        "Sample String : 'google.com', \n",
        "\n",
        "Expected Result : {'o': 3, 'g': 2, '.': 1, 'e': 1, 'l': 1, 'm': 1, 'c': 1}"
      ]
    },
    {
      "cell_type": "code",
      "source": [
        "term = input(\"Enter the  String: \")\n",
        "cnt = {}\n",
        "for char in set(term):\n",
        "  cnt[char] = term.count(char)\n",
        "\n",
        "print(cnt)"
      ],
      "metadata": {
        "colab": {
          "base_uri": "https://localhost:8080/"
        },
        "id": "w2YWI0C-JY24",
        "outputId": "dca07cf8-0927-4c69-b63b-e8f44adc7e10"
      },
      "execution_count": 25,
      "outputs": [
        {
          "output_type": "stream",
          "name": "stdout",
          "text": [
            "Enter the  String: google.com\n",
            "{'o': 3, 'e': 1, 'l': 1, 'm': 1, 'c': 1, 'g': 2, '.': 1}\n"
          ]
        }
      ]
    },
    {
      "cell_type": "markdown",
      "metadata": {
        "id": "55W9AMdXCSpV"
      },
      "source": [
        "(2) Write a Python program to sum all the items in a list. (5 points)"
      ]
    },
    {
      "cell_type": "code",
      "execution_count": 26,
      "metadata": {
        "id": "I57NXsauCec2",
        "colab": {
          "base_uri": "https://localhost:8080/"
        },
        "outputId": "df4bb580-5428-4a27-c54d-f05ae5941f8a"
      },
      "outputs": [
        {
          "output_type": "stream",
          "name": "stdout",
          "text": [
            "The total of the items in the list is: 37\n"
          ]
        }
      ],
      "source": [
        "# write your answer here\n",
        "New_list =[5,6,7,9,10]\n",
        "total = 0\n",
        "for i in New_list:\n",
        " total = total + i\n",
        "\n",
        "print(\"The total of the items in the list is: {}\".format(total))"
      ]
    },
    {
      "cell_type": "markdown",
      "metadata": {
        "id": "4ulBZ6yhCi9F"
      },
      "source": [
        "(3) Write a Python program to get a string from a given string where all occurrences of its first char have been changed to '\\$', except the first char itself. (5 points)\n",
        "\n",
        "Sample String : 'restart', \n",
        "\n",
        "Expected Result : 'resta\\$t'"
      ]
    },
    {
      "cell_type": "code",
      "execution_count": 31,
      "metadata": {
        "id": "Fj0XhwbBCw2o",
        "colab": {
          "base_uri": "https://localhost:8080/"
        },
        "outputId": "7e6b4958-9453-49e8-8f4a-d83d5af2d39c"
      },
      "outputs": [
        {
          "output_type": "stream",
          "name": "stdout",
          "text": [
            "restart\n",
            "resta*t\n"
          ]
        }
      ],
      "source": [
        "# write your answer here\n",
        "given_word = input()\n",
        "print(\"\".join((given_word[0], given_word[1:].replace(given_word[0], \"*\"))))"
      ]
    },
    {
      "cell_type": "markdown",
      "metadata": {
        "id": "_bIP7s1MCzue"
      },
      "source": [
        "(4) Write a program with python which could accept two parameter a and b to calculate and output the result of S, where \n",
        "\n",
        "$\\ S=3.14*(1+a/b)^3$ (5 points)\n",
        "\n"
      ]
    },
    {
      "cell_type": "code",
      "execution_count": 33,
      "metadata": {
        "id": "w79QilHXD3Mg",
        "colab": {
          "base_uri": "https://localhost:8080/"
        },
        "outputId": "b85b8dc2-62f5-4e5e-8702-a3951b40dda1"
      },
      "outputs": [
        {
          "output_type": "stream",
          "name": "stdout",
          "text": [
            "Enter the first value: 45\n",
            "Enter the second value: 56\n",
            "18.421699275692422\n"
          ]
        }
      ],
      "source": [
        "# write your answer here\n",
        "num1 = int(input(\"Enter the first value: \"))\n",
        "num2 = int(input(\"Enter the second value: \"))\n",
        "\n",
        "S = 3.14 * (1 + (num1/num2)) ** 3\n",
        "print(S)"
      ]
    },
    {
      "cell_type": "markdown",
      "metadata": {
        "id": "xCa2bK9aD4Q3"
      },
      "source": [
        "(5) Write a Python program to concatenate following dictionaries to create a new one. (5 points)\n",
        "\n",
        "Sample Dictionary : dic1={1:10, 2:20}, dic2={3:30, 4:40}, dic3={5:50,6:60}, \n",
        "\n",
        "Expected Result : {1: 10, 2: 20, 3: 30, 4: 40, 5: 50, 6: 60}\n"
      ]
    },
    {
      "cell_type": "code",
      "execution_count": 34,
      "metadata": {
        "id": "_z4aLqAbEET1",
        "colab": {
          "base_uri": "https://localhost:8080/"
        },
        "outputId": "6b768da5-e035-41ea-d050-4682fefa2f85"
      },
      "outputs": [
        {
          "output_type": "stream",
          "name": "stdout",
          "text": [
            "{1: 10, 2: 20, 3: 30, 4: 40, 5: 50, 6: 60}\n"
          ]
        }
      ],
      "source": [
        "# write your answer here\n",
        "list1={1:10, 2:20}; list2={3:30, 4:40}; list3={5:50,6:60}\n",
        "\n",
        "outcome = {}\n",
        "for i in [list1, list2, list3]:\n",
        "  outcome.update(i)\n",
        "print(outcome)"
      ]
    },
    {
      "cell_type": "markdown",
      "metadata": {
        "id": "0v48Vqa7FrQh"
      },
      "source": [
        "(6) Write a Python program to check whether an element exists within a tuple. (5 points)"
      ]
    },
    {
      "cell_type": "code",
      "execution_count": 37,
      "metadata": {
        "id": "7WEmgq-DF2P1",
        "colab": {
          "base_uri": "https://localhost:8080/"
        },
        "outputId": "e097545a-af44-4673-d008-cbbe21127eea"
      },
      "outputs": [
        {
          "output_type": "stream",
          "name": "stdout",
          "text": [
            "Enter element: magic\n",
            "Element not present\n"
          ]
        }
      ],
      "source": [
        "# write your answer here\n",
        "One_list = (\"Magic\", \"Will\",\"is\",\"My\")\n",
        "terms = input(\"Enter element: \")\n",
        "if terms in One_list:\n",
        "  print(\"Element present\")\n",
        "else:\n",
        "  print(\"Element not present\")"
      ]
    },
    {
      "cell_type": "markdown",
      "metadata": {
        "id": "vD5PYLMuGga_"
      },
      "source": [
        "(7) Write a Python program to find maximum and the minimum value in a set. (5 points)"
      ]
    },
    {
      "cell_type": "code",
      "execution_count": 20,
      "metadata": {
        "id": "t0D5kdJUGjjw",
        "colab": {
          "base_uri": "https://localhost:8080/"
        },
        "outputId": "cc0a1808-c498-4ca2-a5a0-0e5aa05c95fc"
      },
      "outputs": [
        {
          "output_type": "stream",
          "name": "stdout",
          "text": [
            "Max: 5667\n",
            "Min: 3\n"
          ]
        }
      ],
      "source": [
        "# write your answer here\n",
        "import sys\n",
        "My_list = {3, 99, 7, 457, 579, 5667,88}\n",
        "print(\"Max:\",max(My_list))\n",
        "print(\"Min:\",min(My_list))"
      ]
    },
    {
      "cell_type": "markdown",
      "metadata": {
        "id": "uHkd-y5VhVWC"
      },
      "source": [
        "(8) Write a Python program to randomly divide the students in this class into six groups for term projects, each group should have at least 4 students but no more than 6 students (including 6). Here is the students list: (5 points)\n",
        "\n",
        "studnet_list = ['ja0964','sa1198','sb1357','vb0218','sc1229','kg0569','kg0470','sg1297','bg0320','fh0141','jl1252','sk1386',\n",
        "           'ak0956','sk1390','sk1458','sk1313','ak0934','vm0377','nm0618','sm1640','sm1907','gn0108','pr0353','dr0609','ms1500','aos0040','ds0814', 'av0659','nv0234','hy0232']"
      ]
    },
    {
      "cell_type": "code",
      "execution_count": 21,
      "metadata": {
        "id": "3iGbmcOBhTwy",
        "colab": {
          "base_uri": "https://localhost:8080/"
        },
        "outputId": "bde80741-0337-430c-d9ab-a22a6d1fffc2"
      },
      "outputs": [
        {
          "output_type": "stream",
          "name": "stdout",
          "text": [
            "['sc1229', 'av0659', 'hy0232', 'sk1458', 'sm1907']\n",
            "['sg1297', 'ak0934', 'fh0141', 'kg0569', 'sa1198', 'ja0964']\n",
            "['sm1640', 'aos0040', 'sk1313', 'bg0320']\n",
            "['nv0234', 'ds0814', 'nm0618', 'vb0218', 'sk1390', 'jl1252']\n",
            "['pr0353', 'vm0377', 'sb1357', 'sk1386', 'ak0956']\n",
            "['dr0609', 'ms1500', 'gn0108', 'kg0470']\n"
          ]
        }
      ],
      "source": [
        "# write your answer here\n",
        "import numpy as np,random\n",
        "studnet_list = ['ja0964','sa1198','sb1357','vb0218','sc1229','kg0569','kg0470','sg1297','bg0320','fh0141','jl1252','sk1386', 'ak0956','sk1390','sk1458','sk1313','ak0934','vm0377','nm0618','sm1640','sm1907','gn0108','pr0353','dr0609','ms1500','aos0040','ds0814', 'av0659','nv0234','hy0232']\n",
        "Team_Size =[5, 6, 4, 6, 5, 4]\n",
        "output = []\n",
        "for size in Team_Size: \n",
        "  Team = random.sample(studnet_list,size )\n",
        "  studnet_list = list(set(studnet_list) ^ set(Team))\n",
        "  output = output + [Team]\n",
        "    \n",
        "for row in output:\n",
        "    print(row, end= '\\n')"
      ]
    },
    {
      "cell_type": "markdown",
      "metadata": {
        "id": "oQpT-H1-x_C8"
      },
      "source": [
        "(9) Write a Python program to find the duplicate elements in a given array of integers. Return -1 If there are no such elements. (5 points)"
      ]
    },
    {
      "cell_type": "code",
      "execution_count": 36,
      "metadata": {
        "id": "yEgMR63Fx_C8",
        "colab": {
          "base_uri": "https://localhost:8080/"
        },
        "outputId": "c7d20d39-6875-49ac-9d19-d6be536719fe"
      },
      "outputs": [
        {
          "output_type": "stream",
          "name": "stdout",
          "text": [
            "1, 4, 5, 6, "
          ]
        }
      ],
      "source": [
        "# write your answeimport numpy as np\n",
        "Num = np.array([1, 2, 6, 5, 6, 4, 5, 6, 5, 4, 7, 8, 3, 6, 1])\n",
        "#arr = np.array([2, 3, 4, 5])\n",
        "\n",
        "flag = 0\n",
        "\n",
        "for i in set(Num):\n",
        "  if np.count_nonzero(Num == i) > 1:\n",
        "    flag = 1\n",
        "    print(i, end = ', ')\n",
        "if flag == 0:\n",
        "  print(\"-1\")\n"
      ]
    },
    {
      "cell_type": "markdown",
      "metadata": {
        "id": "55xAE6m5x_C9"
      },
      "source": [
        "(10) Write a Python program to select all the Sundays of a specified year. (5 extra points)"
      ]
    },
    {
      "cell_type": "code",
      "execution_count": 24,
      "metadata": {
        "id": "6iHuZfwOx_C9",
        "colab": {
          "base_uri": "https://localhost:8080/"
        },
        "outputId": "808df624-119f-4d3b-837d-e2c95e60902d"
      },
      "outputs": [
        {
          "name": "stdout",
          "output_type": "stream",
          "text": [
            "Enter the year: 2021\n"
          ]
        },
        {
          "output_type": "execute_result",
          "data": {
            "text/plain": [
              "['03-January-2021',\n",
              " '10-January-2021',\n",
              " '17-January-2021',\n",
              " '24-January-2021',\n",
              " '31-January-2021',\n",
              " '07-February-2021',\n",
              " '14-February-2021',\n",
              " '21-February-2021',\n",
              " '28-February-2021',\n",
              " '07-March-2021',\n",
              " '14-March-2021',\n",
              " '21-March-2021',\n",
              " '28-March-2021',\n",
              " '04-April-2021',\n",
              " '11-April-2021',\n",
              " '18-April-2021',\n",
              " '25-April-2021',\n",
              " '02-May-2021',\n",
              " '09-May-2021',\n",
              " '16-May-2021',\n",
              " '23-May-2021',\n",
              " '30-May-2021',\n",
              " '06-June-2021',\n",
              " '13-June-2021',\n",
              " '20-June-2021',\n",
              " '27-June-2021',\n",
              " '04-July-2021',\n",
              " '11-July-2021',\n",
              " '18-July-2021',\n",
              " '25-July-2021',\n",
              " '01-August-2021',\n",
              " '08-August-2021',\n",
              " '15-August-2021',\n",
              " '22-August-2021',\n",
              " '29-August-2021',\n",
              " '05-September-2021',\n",
              " '12-September-2021',\n",
              " '19-September-2021',\n",
              " '26-September-2021',\n",
              " '03-October-2021',\n",
              " '10-October-2021',\n",
              " '17-October-2021',\n",
              " '24-October-2021',\n",
              " '31-October-2021',\n",
              " '07-November-2021',\n",
              " '14-November-2021',\n",
              " '21-November-2021',\n",
              " '28-November-2021',\n",
              " '05-December-2021',\n",
              " '12-December-2021',\n",
              " '19-December-2021',\n",
              " '26-December-2021']"
            ]
          },
          "metadata": {},
          "execution_count": 24
        }
      ],
      "source": [
        "# write your answer here\n",
        "import pandas as pd\n",
        "\n",
        "def Total_sundays(year):\n",
        "  return pd.date_range(start=str(year), end=str(year+1), freq='W-SUN').strftime('%d-%B-%Y').tolist()\n",
        "\n",
        "year = int(input(\"Enter the year: \"))\n",
        "Total_sundays(year)"
      ]
    }
  ],
  "metadata": {
    "colab": {
      "collapsed_sections": [],
      "name": "lab_assignment_01.ipynb",
      "provenance": [],
      "toc_visible": true,
      "include_colab_link": true
    },
    "kernelspec": {
      "display_name": "Python 3",
      "language": "python",
      "name": "python3"
    },
    "language_info": {
      "codemirror_mode": {
        "name": "ipython",
        "version": 3
      },
      "file_extension": ".py",
      "mimetype": "text/x-python",
      "name": "python",
      "nbconvert_exporter": "python",
      "pygments_lexer": "ipython3",
      "version": "3.8.5"
    }
  },
  "nbformat": 4,
  "nbformat_minor": 0
}