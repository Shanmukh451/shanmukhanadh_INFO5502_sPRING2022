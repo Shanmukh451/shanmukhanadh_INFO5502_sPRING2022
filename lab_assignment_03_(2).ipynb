{
  "cells": [
    {
      "cell_type": "markdown",
      "metadata": {
        "id": "view-in-github",
        "colab_type": "text"
      },
      "source": [
        "<a href=\"https://colab.research.google.com/github/Shanmukh451/shanmukhanadh_INFO5502_sPRING2022/blob/main/lab_assignment_03_(2).ipynb\" target=\"_parent\"><img src=\"https://colab.research.google.com/assets/colab-badge.svg\" alt=\"Open In Colab\"/></a>"
      ]
    },
    {
      "cell_type": "markdown",
      "metadata": {
        "id": "O5uCzI7AP22F"
      },
      "source": [
        "## The third Lab-assignment (02/10/2022, 50 points in total)"
      ]
    },
    {
      "cell_type": "markdown",
      "metadata": {
        "id": "0oWTqycRP22J"
      },
      "source": [
        "The purpose of this exercise is to understand users' information needs, then collect data from different sources for analysis."
      ]
    },
    {
      "cell_type": "markdown",
      "metadata": {
        "id": "lbuShNIlP22K"
      },
      "source": [
        "Question 1 (10 points). Fomulate your domain problem: Describe an interesting research question (or practical question) you have in mind, what kind of data should be collected to answer the question(s)? How many data needed for the analysis? The detail steps for collecting and save the data. "
      ]
    },
    {
      "cell_type": "code",
      "execution_count": null,
      "metadata": {
        "id": "sLBLTDLEP22L"
      },
      "outputs": [],
      "source": [
        "from numpy.ma.core import flatten_structured_array\n",
        "# Your answer here (no code for this question, write down your answer as detail as possible for the above questions):\n",
        "\n",
        "'''\n",
        "Please write you answer here:\n",
        " \n",
        "1) I have very interested to do research in the cricket and mainly on the Cricket Helmets. \n",
        "2) This thought occured where many players have been injured due to lack of strength and quality of the helmets.So, i would to collect the data of all the games \n",
        "    where the players have been injured or hit on the helmemt by which from the data we can get ball speed and the point of intact and\n",
        "     how much impact the player head been hit and also angle of impact\n",
        "3) To analyse and get a solution we need lots of data from lot matches by which we can analyse and get a feasible solution.\n",
        "\n",
        "'''\n",
        "    "
      ]
    },
    {
      "cell_type": "markdown",
      "metadata": {
        "id": "sIRarih4P22M"
      },
      "source": [
        "Question 2 (10 points). Collect your data to answer the research problem: Write python code to collect 1000 data samples you discussed above."
      ]
    },
    {
      "cell_type": "code",
      "execution_count": null,
      "metadata": {
        "id": "ZledIJTgP22M"
      },
      "outputs": [],
      "source": [
        "# You code here (Please add comments in the code):\n",
        "\n",
        "\n",
        "\n",
        "\n",
        "\n",
        "\n"
      ]
    },
    {
      "cell_type": "markdown",
      "metadata": {
        "id": "7TC0u7_JP22M"
      },
      "source": [
        "Question 3 (10 points). Understand the data quality: Search a second hand dataset (any dataset) from kaggle or other websites. Describe the data quality problem of the dataset and explain your strtegy to clean the data."
      ]
    },
    {
      "cell_type": "code",
      "execution_count": null,
      "metadata": {
        "id": "hdidpcerP22N"
      },
      "outputs": [],
      "source": [
        "# Your answer here (no code for this question, write down your answer as detail as possible for the above questions):\n",
        "'''\n",
        "\n",
        "Please write you answer here:\n",
        "\n",
        "\n",
        "data set= https://www.kaggle.com/jcraggy/baseball\n",
        "\n",
        "1) This is a dataset from kaggle regarding the baseball.\n",
        "2) If we have discuss about the quality of the datasets taken, we have clearly increase description of the Away team and Home Team  wins and losses and\n",
        "3) And here in the data sets thy have not clearly given the pitcher analysis and his numbers where they didnt given numbers speacifically between left and right handers.\n",
        "4) - by removing the duplicate and unnecessary player numbers\n",
        "   - by adding the required data of pitchers to analyze the data properly. \n",
        "\n",
        "\n",
        "\n",
        "\n",
        "\n",
        "\n",
        "'''"
      ]
    },
    {
      "cell_type": "markdown",
      "metadata": {
        "id": "a36uuKZ4P22O"
      },
      "source": [
        "Question 4 (20 points). Data cleaning: There are two datasets TwADR-L (from Twitter) and AskAPatient (Link: https://zenodo.org/record/55013#.YgU2NN-ZO4T) for medical concept\n",
        "normalization. However, the two datasets have serious data quality problems. Please read the introduction of the datasets and clean the two datasets by following the steps in the statement.\n",
        "\n",
        "In the original dataset, the TwADR-L had 48,057 training, 1,256 validation and 1,427 test examples. The test set (all\n",
        "test samples from 10 folds combined) consists of 765 unique phrases and 273 unique classes (medical concepts). The AskAPatient dataset contained 156,652 training, 7,926 validation, and 8,662 test examples. The entire test set (all test samples\n",
        "from 10 folds combined) consists of 3,749 unique phrases and 1,035 unique classes (medical concepts). The authors\n",
        "randomly split each dataset into ten equal folds, ran 10-fold cross validation and reported the accuracy averaged across the\n",
        "ten folds. \n",
        "\n",
        "We found that, in the original data set, many phrase-label pairs appeared multiple times within the same training data file\n",
        "and also across the training and test data sets in the same fold. In the AskAPatient data set, on average 35.82% of the test data overlapped with training data in the same fold. In the Twitter (TwADR-L) dataset, on average 8.62% of the test set had an overlap with the training data in the same fold. Having a large overlap between the training and the test data can potentially\n",
        "introduce bias in the model and contribute to high accuracy. It is not unlikely that the high model performance reported in the original paper may be triggered by the the large overlap between the training and test sets.\n",
        "\n",
        "Therefore to remove the bias, we further cleaned and recreated the training, validation, and test sets such that each\n",
        "phrase-label pair appears only once in the entire dataset (either in training, validation or test set).\n",
        "\n",
        "(1) First, we combined all examples in training, validation and test data from the original data set and then removed all\n",
        "duplicate phrase-label pairs (examples that have the same phrase and label pair and appear more than once in training/validation/test datasets). Table II shows the statistics of the new dataset (after removing duplicates). The Twitter data set had 3,157 unique phrase-label pairs and 2,220 unique labels (medical concepts) while 173 phrases had multiple labels (i.e., they were assigned to more than one label). Many concepts had only one example, and the concept that had the most number\n",
        "of examples had 36 phrases. On average, each concept had 1.42 examples. The AskAPatient data set had 4,496 unique phrase-label pairs, 1,036 unique labels while 26 phrases had multiple labels. Table III shows examples of phrases that had multiple labels. For example, ‘mad’ can be mapped to ‘anger’ or ‘rage’ and ‘sore’ can be mapped to ‘pain’ or ‘myalgia’.\n",
        "\n",
        "(2) Second, we remove all concepts that had less than five examples. The statistics of the final data are shown in Table IV.\n",
        "\n",
        "(3) Third, we divide all examples without multiple labels into random 10 folds such that each unique phrase-label pair\n",
        "appears once in one of the 10 test sets. We add the pairs with multiple labels into the training data. This final 10-folds\n",
        "dataset is used in all our experiments.\n",
        "\n",
        "(The original paper can be download on canvas)"
      ]
    },
    {
      "cell_type": "code",
      "execution_count": 3,
      "metadata": {
        "id": "dAiQWoUHP22P"
      },
      "outputs": [],
      "source": [
        "import glob\n",
        "mymyresult_df =  pd.DataFrame()\n",
        "# we iterate through both datasets \n",
        "for dataset in ['TwADR-L', 'AskAPatient']:\n",
        "    myresult = {}\n",
        "    df = pd.DataFrame()\n",
        "    for filepath in glob.glob('/content/drive/MyDrive/datasets/{}/*.txt'.format(dataset)):\n",
        "        data = pd.read_csv(filepath, sep = \"\\t\", header = None, encoding= 'unicode_escape')\n",
        "        df = df.append(data)\n",
        "    # we create combined dataframe by combining Each dataset text files.\n",
        "    df = df.reset_index(drop=True)\n",
        "    df['phrase_label'] = df[1] + \" \" + df[2]\n",
        "    df.columns = ['id', 'labels', 'phrases', 'phrase-label']\n",
        "    # type casting to str\n",
        "    df = df.astype({\"id\": str})\n",
        "    # converting all values to lower case\n",
        "    for columns in df.columns:\n",
        "        df[columns] = df[columns].str.lower() \n",
        "\n",
        "    # dropping duplicates\n",
        "    df = df.drop_duplicates('phrase-label')\n",
        "\n",
        "    # storing myresults of the table in dictionary\n",
        "    myresult['Unique_phrases'] = len(df['phrases'].unique())\n",
        "    myresult['Unique_labels'] = len(df['labels'].unique())\n",
        "    myresult['Unique_phrase_label_pairs'] = df.shape[0]\n",
        "    df1 = pd.DataFrame(df['phrases'].value_counts())\n",
        "    myresult['Phrases with multiple labels'] = df1[df1['phrases'] > 1].shape[0]\n",
        "    myresult['Min examples per label'] = df['labels'].value_counts().values.min()\n",
        "    myresult['Max examples per label'] = df['labels'].value_counts().values.max()\n",
        "    myresult['Avg examples per label'] = round(df['labels'].value_counts().mean(), 2)\n",
        "    mymyresult_df = mymyresult_df.append(myresult, ignore_index=True)\n",
        "\n",
        "\n",
        "mymyresult_df = mymyresult_df.T\n",
        "mymyresult_df = mymyresult_df.astype({0: int, 1: int})\n",
        "mymyresult_df.columns = ['TwADR-L', 'AskAPatient']\n",
        "\n",
        "mymyresult_df\n"
      ]
    },
    {
      "cell_type": "code",
      "source": [
        "import pandas as pd\n",
        "import glob\n",
        "mymyresult_df = pd.DataFrame()\n",
        "\n",
        "for dataset in ['TwADR-L', 'AskAPatient']:\n",
        "    df = pd.DataFrame()\n",
        "    myresult = {}\n",
        "    for filepath in glob.glob('/content/drive/MyDrive/datasets/{}/*.txt'.format(dataset)):\n",
        "        \n",
        "        data = pd.read_csv(filepath, sep = \"\\t\", header = None, encoding= 'unicode_escape')\n",
        "        df = df.append(data)\n",
        "   \n",
        "    df = df.reset_index(drop=True)\n",
        "    df['phrase_label'] = df[1] + \" \" + df[2]\n",
        "    df.columns = ['id', 'labels', 'phrases', 'phrase-label']\n",
        "    \n",
        "    df = df.astype({\"id\": str})\n",
        "    \n",
        "    for columns in df.columns:\n",
        "        df[columns] = df[columns].str.lower() \n",
        "\n",
        "     \n",
        "    df = df.drop_duplicates('phrase-label')\n",
        "\n",
        "    index_list = []\n",
        "    for i in range(df.shape[0]):\n",
        "        if df['labels'].value_counts()[df.iloc[i]['labels']] < 5:\n",
        "            index_list.append(i)\n",
        "\n",
        "   \n",
        "    df.drop(df.index[index_list], inplace=True)\n",
        "    myresult = {}\n",
        "    \n",
        "    myresult['Unique_phrases'] = len(df['phrases'].unique())\n",
        "    myresult['Unique_labels'] = len(df['labels'].unique())\n",
        "    myresult['Unique_phrase_label_pairs'] = df.shape[0]\n",
        "    df1 = pd.DataFrame(df['phrases'].value_counts())\n",
        "    myresult['Phrases with multiple labels'] = df1[df1['phrases'] > 1].shape[0]\n",
        "    myresult['Min examples per label'] = df['labels'].value_counts().values.min()\n",
        "    myresult['Max examples per label'] = df['labels'].value_counts().values.max()\n",
        "    myresult['Avg examples per label'] = round(df['labels'].value_counts().mean(), 2)\n",
        "    \n",
        "    mymyresult_df = mymyresult_df.append(myresult, ignore_index=True)\n",
        "\n",
        "mymyresult_df = mymyresult_df.T\n",
        "\n",
        "mymyresult_df.columns = ['TwADR-L', 'AskAPatient']\n",
        "\n",
        "mymyresult_df\n"
      ],
      "metadata": {
        "id": "_IWJu19uuI7p"
      },
      "execution_count": null,
      "outputs": []
    }
  ],
  "metadata": {
    "kernelspec": {
      "display_name": "Python 3",
      "language": "python",
      "name": "python3"
    },
    "language_info": {
      "codemirror_mode": {
        "name": "ipython",
        "version": 3
      },
      "file_extension": ".py",
      "mimetype": "text/x-python",
      "name": "python",
      "nbconvert_exporter": "python",
      "pygments_lexer": "ipython3",
      "version": "3.8.5"
    },
    "colab": {
      "name": "lab_assignment_03 (2).ipynb",
      "provenance": [],
      "include_colab_link": true
    }
  },
  "nbformat": 4,
  "nbformat_minor": 0
}