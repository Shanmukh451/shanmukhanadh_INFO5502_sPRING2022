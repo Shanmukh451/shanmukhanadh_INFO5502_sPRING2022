{
  "cells": [
    {
      "cell_type": "markdown",
      "metadata": {
        "id": "view-in-github",
        "colab_type": "text"
      },
      "source": [
        "<a href=\"https://colab.research.google.com/github/Shanmukh451/shanmukhanadh_INFO5502_sPRING2022/blob/main/lab_assignment_05.ipynb\" target=\"_parent\"><img src=\"https://colab.research.google.com/assets/colab-badge.svg\" alt=\"Open In Colab\"/></a>"
      ]
    },
    {
      "cell_type": "markdown",
      "metadata": {
        "id": "iD8EkQzj7Q4Y"
      },
      "source": [
        "## The fifth Lab-assignment (02/24/2022, 50 points in total)"
      ]
    },
    {
      "cell_type": "markdown",
      "metadata": {
        "id": "wQ9lRco67Q4c"
      },
      "source": [
        "The purpose of this exercise is to understand Data Visualization, we will practice how to create visualizations for different datasets bu using different tools."
      ]
    },
    {
      "cell_type": "markdown",
      "metadata": {
        "id": "0le9rEAG7Q4e"
      },
      "source": [
        "Question 1 (15 points). In this questions, you will design a visualization for a small data set and provide a rigorous rationale for your design choices. \n",
        "\n",
        "Every 10 years, the census bureau documents the demographic make-up of the United States, influencing everything from congressional districting to social services. This dataset contains a high-level summary of census data for two years a century apart: 1900 and 2000. The data is a CSV (comma-separated values) file that describes the U.S. population in terms of year, reported sex (1: male, 2: female), age group (binned into 5 year segments from 0-4 years old up to 90+ years old), and the total count of people per group. There are 38 data points per year, for a total of 76 data points.\n",
        "\n",
        "You can download the dataset here: \n",
        "\n",
        "Dataset: https://github.com/unt-iialab/info5502-spring2022/blob/main/datasets/lab_assignment_05_census.csv\n",
        "\n",
        "Source: https://www.ipums.org/\n",
        "\n",
        "(1) Start by choosing a question you'd like a visualization to answer.\n",
        "\n",
        "(2) Generate a static visualization (i.e., a single image) that you believe effectively answers that question, and use the question as the title of your graphic.\n",
        "\n",
        "(3) Provide a short write-up (no more than 3 paragraphs) describing your design.\n",
        "\n",
        "\n",
        "While you must use the data set given, you are free to transform the data as you see fit. Such transforms may include (but are not limited to) log transformation, computing percentages or averages, grouping elements into new categories, or removing unnecessary variables or records. You are also free to incorporate external data as you see fit. Your chart image should be interpretable without recourse to your short write-up. Do not forget to include title, axis labels or legends as needed!\n",
        "\n",
        "As different visualizations can emphasize different aspects of a data set, you should document what aspects of the data you are attempting to most effectively communicate. In short, what story are you trying to tell? Just as important, also note which aspects of the data might be obscured or down-played due to your visualization design.\n",
        "\n",
        "In your write-up, you should provide a rigorous rationale for your design decisions. Document the visual encodings you used and why they are appropriate for the data and your specific question. These decisions include the choice of visualization type, size, color, scale, and other visual elements, as well as the use of sorting or other data transformations. How do these decisions facilitate effective communication?"
      ]
    },
    {
      "cell_type": "code",
      "execution_count": null,
      "metadata": {
        "id": "8U6GYi_v7Q4i"
      },
      "outputs": [],
      "source": [
        "# Your answer here (question + explanation):\n",
        "\n",
        "'''\n",
        "Visualize a plot that shows the comparision of Total count of each age  in year 1900 and 2000\n",
        "\n",
        "'''\n",
        "\n",
        "\n",
        "\n"
      ]
    },
    {
      "cell_type": "code",
      "execution_count": null,
      "metadata": {
        "colab": {
          "base_uri": "https://localhost:8080/",
          "height": 279
        },
        "id": "34bU1a7J7Q4t",
        "outputId": "116fdac0-cdd4-44b0-ad53-e3599c498fc1"
      },
      "outputs": [
        {
          "output_type": "display_data",
          "data": {
            "image/png": "[encoded data removed]",
            "text/plain": [
              "<Figure size 432x288 with 1 Axes>"
            ]
          },
          "metadata": {
            "needs_background": "light"
          }
        }
      ],
      "source": [
        "# Your answer here (python code + explanation):\n",
        "\n",
        "\n",
        "\n",
        "import pandas as pd\n",
        "import matplotlib.pyplot as mpl\n",
        "import seaborn as sea\n",
        "\n",
        "# loading the dataframe \n",
        "fd = pd.read_csv(\"https://raw.githubusercontent.com/unt-iialab/info5502-spring2022/main/datasets/lab_assignment_05_census.csv\", sep=\",\")\n",
        "\n",
        "# we are using the seaborn counterplot\n",
        "\n",
        "sea.barplot(data=fd, x='Age', y='People', hue='Year',palette='Set2')\n",
        "\n",
        "mpl.ticklabel_format(style='plain', axis='y')\n",
        "\n",
        "mpl.show()\n"
      ]
    },
    {
      "cell_type": "code",
      "execution_count": null,
      "metadata": {
        "colab": {
          "base_uri": "https://localhost:8080/",
          "height": 140
        },
        "id": "Uky9iSTK7Q4u",
        "outputId": "0443708c-6e1e-47c8-ebdb-df69b4a5b790"
      },
      "outputs": [
        {
          "output_type": "execute_result",
          "data": {
            "application/vnd.google.colaboratory.intrinsic+json": {
              "type": "string"
            },
            "text/plain": [
              "'\\nDesign Approach:\\n\\n For working on the dataset and visualization i imported the required libraries pandas, matplotlib and for visualizing i used seaborn \\n\\n Now based on the Question i chooosed stacked bar chart as a convinent way to represent the 3 attributes Age, People count, Year of the people in the same plot.\\n\\n In the dataset  poeple population count is given in billions.So,for our convinence I used the tick label format method to format the population count in billions.\\n\\n from the Visualization we can clearly observe that the population count of ages in 1900 is declined from age 0 to age 90 where Age group stands highest with nearly 5 \\n billios\\n But in 2000 count of age group 40 and 45 stands higher with number nearly 11 billions and from later it aslo shows a decline in the numbers.\\n\\n'"
            ]
          },
          "metadata": {},
          "execution_count": 18
        }
      ],
      "source": [
        "# Your answer here (interpretation of the results):\n",
        "'''\n",
        "Design Approach:\n",
        "\n",
        " 1.For working on the dataset and visualization i imported the required libraries pandas, matplotlib \n",
        "   and for visualizing i used seaborn \n",
        "\n",
        " 2.Now based on the Question i chooosed stacked bar chart as a convinent way to represent\n",
        "  the 3 attributes Age, People count, Year of the people in the same plot.In the dataset  poeple population count\n",
        "  is given in billions.So,for our convinence I used the tick label format method to format the population\n",
        "  count in billions.\n",
        "\n",
        " 3.from the Visualization we can clearly observe that the population count of ages in 1900 is declined \n",
        "  from age 0 to age 90 where Age group stands highest with nearly 5 billios.But in 2000 count of age \n",
        "  group 40 and 45 stands higher with number nearly 11 billions and from later it aslo shows a decline in the numbers.\n",
        "\n",
        "'''\n"
      ]
    },
    {
      "cell_type": "markdown",
      "metadata": {
        "id": "HoJS-KG27Q4v"
      },
      "source": [
        "Question 2 (20 points). In this question, you are required to use visualizations to tell a story about a dataset.\n",
        "\n",
        "Step 1. Pick a domain and data set that you are interested in.\n",
        "\n",
        "Peruse the provided data sets: http://nixdell.com/classes/HCI-and-Design-Spring-2016/Resources.html.\n",
        "\n",
        "Choose the one of greatest interest to you. If you would like to explore a different data set, you are free to do so but be aware of how much work might be needed to clean the data and get it into a usable format.\n",
        "\n",
        "Step 2. Explore the data. Find a story. Ask questions.\n",
        "\n",
        "Start by asking questions. For example: Is there a relationship between melting point and atomic number? Are the brightness and color of stars correlated? Are there different patterns of nucleotides in different regions in human DNA?\n",
        "\n",
        "Step 3. Assess the fitness of the data for answering your question.\n",
        "\n",
        "Inspect the data -- it is invariably helpful to first look at the raw values. Does the data seem appropriate for answering your question? If not, you may need to start the process over. If so, does the data need to be reformatted or cleaned prior to analysis? Perform any steps necessary to get the data into shape prior to visual analysis.\n",
        "\n",
        "Step 4. Create the visualization(s) that tell a story about the data.\n",
        "\n",
        "You will likely need to create several and see what works best. Keep a record of things you tried and discarded.\n"
      ]
    },
    {
      "cell_type": "code",
      "execution_count": 14,
      "metadata": {
        "id": "1jXtkUJQ7Q4w",
        "colab": {
          "base_uri": "https://localhost:8080/",
          "height": 53
        },
        "outputId": "010b2979-dc60-49df-8457-e39e1be14ff7"
      },
      "outputs": [
        {
          "output_type": "execute_result",
          "data": {
            "application/vnd.google.colaboratory.intrinsic+json": {
              "type": "string"
            },
            "text/plain": [
              "'\\n#Step 1: \\n\\n Here i choose the Domain of intercity and would analyze on Housing Datset\\nThe dataset is available on the github\\nlink: https://github.com/Shanmukh451/shanmukhanadh_INFO5502_sPRING2022/blob/main/innercity.csv\\n\\n\\n\\n'"
            ]
          },
          "metadata": {},
          "execution_count": 14
        }
      ],
      "source": [
        "'''\n",
        "#Step 1: \n",
        "\n",
        " Here i choose the Domain of intercity and would analyze on Housing Datset\n",
        "The dataset is available on the github\n",
        "link: https://github.com/Shanmukh451/shanmukhanadh_INFO5502_sPRING2022/blob/main/innercity.csv\n",
        "\n",
        "\n",
        "\n",
        "'''"
      ]
    },
    {
      "cell_type": "code",
      "source": [
        "from google.colab import drive\n",
        "drive.mount('/content/drive')"
      ],
      "metadata": {
        "colab": {
          "base_uri": "https://localhost:8080/"
        },
        "id": "d0Q6HfBseWZz",
        "outputId": "4ffc844a-5284-43b2-9f05-939a9b6c5aa4"
      },
      "execution_count": 12,
      "outputs": [
        {
          "output_type": "stream",
          "name": "stdout",
          "text": [
            "Mounted at /content/drive\n"
          ]
        }
      ]
    },
    {
      "cell_type": "code",
      "source": [
        "# Step 2\n",
        "'''\n",
        "\n",
        "We will be working on the intercity.csv and \n",
        "we wlll be assesing and analyizing the quality of data by answering few Questions\n",
        "\n",
        "Q1. How number of rows and columns in the dataset and what are typesof data present?\n",
        "Q2. Find Out the Unique Values of Each columns in tha data set?\n",
        "Q3. Visualize the the missing values in the dataset if there is any?\n",
        "Q4. Perform  an  Categorical variable analysis on any one of the quality and yr_built\n",
        "Q5. Visualize how condition effects the price of building\n",
        "'''"
      ],
      "metadata": {
        "id": "6jB4uJPMixhd"
      },
      "execution_count": null,
      "outputs": []
    },
    {
      "cell_type": "code",
      "source": [
        "# Step 3 \n",
        "import pandas as pd\n",
        "import numpy as np\n",
        "import seaborn as sea\n",
        "import matplotlib as mpl\n",
        "import matplotlib.pyplot as plt\n",
        "import warnings\n",
        "warnings.filterwarnings('ignore')\n",
        "\n",
        "# Loading the dataset\n",
        "dc=pd.read_csv(\"/content/drive/MyDrive/innercity.csv\")\n",
        "\n",
        "#Q1 finding no of columns and checking what types of data present\n",
        "dc.shape\n",
        "dc.info()\n",
        "\n",
        "print()\n",
        "print(\"--------------------------------------------------\")\n",
        "#Q2.Uniques values of each column\n",
        "\n",
        "print('Bed Rooms')\n",
        "print(*list(dc.room_bed.unique()))\n",
        "print('Bath Rooms')\n",
        "print(*list(dc.room_bath.unique()))\n",
        "print('Coast')\n",
        "print(*list(dc.coast.unique()))\n",
        "print('sight')\n",
        "print(*list(dc.sight.unique()))\n",
        "print('condition')\n",
        "print(*list(dc.condition.unique()))\n",
        "print('quality')\n",
        "print(*list(dc.quality.unique()))\n",
        "print('basemnet')\n",
        "print(*list(dc.basement.unique()))\n",
        "print('furnished')\n",
        "print(*list(dc.furnished.unique()))\n"
      ],
      "metadata": {
        "colab": {
          "base_uri": "https://localhost:8080/"
        },
        "id": "k1wUWgUOke7L",
        "outputId": "320e7aef-a674-44f2-8412-bd9440c846bf"
      },
      "execution_count": 23,
      "outputs": [
        {
          "output_type": "stream",
          "name": "stdout",
          "text": [
            "<class 'pandas.core.frame.DataFrame'>\n",
            "RangeIndex: 21613 entries, 0 to 21612\n",
            "Data columns (total 23 columns):\n",
            " #   Column            Non-Null Count  Dtype  \n",
            "---  ------            --------------  -----  \n",
            " 0   cid               21613 non-null  int64  \n",
            " 1   dayhours          21613 non-null  object \n",
            " 2   price             21613 non-null  int64  \n",
            " 3   room_bed          21613 non-null  int64  \n",
            " 4   room_bath         21613 non-null  float64\n",
            " 5   living_measure    21613 non-null  int64  \n",
            " 6   lot_measure       21613 non-null  int64  \n",
            " 7   ceil              21613 non-null  float64\n",
            " 8   coast             21613 non-null  int64  \n",
            " 9   sight             21613 non-null  int64  \n",
            " 10  condition         21613 non-null  int64  \n",
            " 11  quality           21613 non-null  int64  \n",
            " 12  ceil_measure      21613 non-null  int64  \n",
            " 13  basement          21613 non-null  int64  \n",
            " 14  yr_built          21613 non-null  int64  \n",
            " 15  yr_renovated      21613 non-null  int64  \n",
            " 16  zipcode           21613 non-null  int64  \n",
            " 17  lat               21613 non-null  float64\n",
            " 18  long              21613 non-null  float64\n",
            " 19  living_measure15  21613 non-null  int64  \n",
            " 20  lot_measure15     21613 non-null  int64  \n",
            " 21  furnished         21613 non-null  int64  \n",
            " 22  total_area        21613 non-null  int64  \n",
            "dtypes: float64(4), int64(18), object(1)\n",
            "memory usage: 3.8+ MB\n",
            "\n",
            "--------------------------------------------------\n",
            "Bed Rooms\n",
            "4 3 2 5 6 1 8 33 7 0 9 10 11\n",
            "Bath Rooms\n",
            "3.25 2.5 1.0 1.5 1.75 2.0 2.75 2.25 3.0 4.0 4.5 3.5 5.25 4.75 4.25 5.0 7.75 3.75 0.75 5.5 6.75 1.25 6.25 0.0 5.75 6.0 0.5 6.5 7.5 8.0\n",
            "Coast\n",
            "0 1\n",
            "sight\n",
            "0 2 4 3 1\n",
            "condition\n",
            "5 3 4 2 1\n",
            "quality\n",
            "9 8 6 7 10 11 5 13 12 4 3 1\n",
            "basemnet\n",
            "0 800 880 1200 620 1720 540 500 720 390 1800 810 830 700 470 300 960 1450 1570 1600 770 270 160 710 1590 750 890 350 570 920 430 1100 550 940 690 840 590 190 760 900 260 100 630 2120 580 740 400 380 530 1000 435 520 290 1060 490 1070 150 480 120 460 1150 980 140 600 440 660 1030 1050 560 1540 1220 1430 1750 650 200 780 1180 1080 1350 1290 670 850 340 1460 60 280 330 1260 240 250 360 1950 310 1420 790 1440 210 1250 180 1010 640 1210 730 680 1140 1510 990 170 320 80 1390 2010 910 870 1380 130 860 1120 930 1090 1410 1400 1520 4820 420 1110 1170 820 1330 1340 2850 1020 2220 1790 1280 220 1270 1230 2030 90 230 450 1490 1300 1370 2550 1310 1500 1760 370 950 145 1040 1610 510 1160 1320 1130 1830 2060 1190 970 1580 610 1780 2490 1480 70 602 410 1700 1940 1960 143 1240 1900 1481 1620 1360 1548 110 1840 2310 1710 2070 1852 1690 556 1650 2810 50 1530 40 414 704 2040 1850 1284 1660 1816 1740 1550 2020 1670 2620 1560 2130 10 1810 1860 1890 2390 2090 515 1640 1470 1820 2720 1870 1680 1910 475 2160 2600 1930 225 3260 172 1525 946 784 2330 1630 2050 2200 935 65 906 2000 2240 2590 2080 2170 2180 915 2580 2150 1135 295 2500 1798 2110 1248 1990 265 1024 2730 3500 792 2250 1008 415 588 1281 276 2610 506 2100 768 1730 1245 1920 248 374 1913 283 417 875 3480 235 518 652 2196 516 894 862 1880 2300 1770 2360 243 508 20 266 2190 207 2570 4130 3000 666 1275 861 274 2400 176 2350\n",
            "furnished\n",
            "1 0\n"
          ]
        }
      ]
    },
    {
      "cell_type": "code",
      "source": [
        "#Step 4\n",
        "#Question 3 ,4,5\n",
        "sea.heatmap(dc.isnull(), cbar=False, yticklabels=False, cmap='viridis')\n",
        "\n",
        "sea.factorplot('quality',data=dc,kind='count')\n",
        "pl = sea.factorplot('yr_built',data=dc, aspect=4,kind='count')\n",
        "pl.set_xticklabels(step=5)\n",
        "plt.show()\n",
        "\n",
        "# conditon vs price\n",
        "sea.barplot(x=dc.condition,y=dc.price)"
      ],
      "metadata": {
        "colab": {
          "base_uri": "https://localhost:8080/",
          "height": 1000
        },
        "id": "oesz5nrXpY8S",
        "outputId": "85696a98-0c06-4547-f9b3-fa5f160c4f91"
      },
      "execution_count": 31,
      "outputs": [
        {
          "output_type": "display_data",
          "data": {
            "image/png": "[encoded data removed]",
            "text/plain": [
              "<Figure size 432x288 with 1 Axes>"
            ]
          },
          "metadata": {
            "needs_background": "light"
          }
        },
        {
          "output_type": "display_data",
          "data": {
            "image/png": "[encoded data removed]",
            "text/plain": [
              "<Figure size 360x360 with 1 Axes>"
            ]
          },
          "metadata": {
            "needs_background": "light"
          }
        },
        {
          "output_type": "display_data",
          "data": {
            "image/png": "[encoded data removed]",
            "text/plain": [
              "<Figure size 1440x360 with 1 Axes>"
            ]
          },
          "metadata": {
            "needs_background": "light"
          }
        },
        {
          "output_type": "execute_result",
          "data": {
            "text/plain": [
              "<matplotlib.axes._subplots.AxesSubplot at 0x7f8a1bb99d10>"
            ]
          },
          "metadata": {},
          "execution_count": 31
        },
        {
          "output_type": "display_data",
          "data": {
            "image/png": "[encoded data removed]",
            "text/plain": [
              "<Figure size 432x288 with 1 Axes>"
            ]
          },
          "metadata": {
            "needs_background": "light"
          }
        }
      ]
    },
    {
      "cell_type": "markdown",
      "metadata": {
        "id": "b1FbZSOn7Q4x"
      },
      "source": [
        "Question 3 (15 points). In this question, you are required to create visualization for time series data. \n",
        "\n",
        "We have collected all the articles from AMIA in the last 30 years. The dataset is avaliable on GitHub: https://raw.githubusercontent.com/unt-iialab/info5502-spring2022/main/datasets/lab_assignment_05_amia_cleaned.csv. \n",
        "\n",
        "Please use the tool Yake: https://github.com/LIAAD/yake to extract the top N (you can set different N value to get the best visualization results) keywords from the article titles (all the articles), then visualize how the keywords changed over years in one figure. (Split the data by every five years)"
      ]
    },
    {
      "cell_type": "code",
      "execution_count": 11,
      "metadata": {
        "colab": {
          "base_uri": "https://localhost:8080/"
        },
        "id": "4LViySct7Q4y",
        "outputId": "71197be7-170b-426c-8406-99784f9527d4"
      },
      "outputs": [
        {
          "output_type": "stream",
          "name": "stdout",
          "text": [
            "Traceback (most recent call last):\n",
            "  File \"<frozen importlib._bootstrap>\", line 677, in _load_unlocked\n",
            "  File \"<frozen importlib._bootstrap_external>\", line 728, in exec_module\n",
            "  File \"<frozen importlib._bootstrap>\", line 219, in _call_with_frames_removed\n",
            "  File \"/usr/local/lib/python3.7/dist-packages/pip/_internal/exceptions.py\", line 7, in <module>\n",
            "    from pip._vendor.pkg_resources import Distribution\n",
            "  File \"/usr/local/lib/python3.7/dist-packages/pip/_vendor/pkg_resources/__init__.py\", line 3251, in <module>\n",
            "    @_call_aside\n",
            "  File \"/usr/local/lib/python3.7/dist-packages/pip/_vendor/pkg_resources/__init__.py\", line 3235, in _call_aside\n",
            "    f(*args, **kwargs)\n",
            "  File \"/usr/local/lib/python3.7/dist-packages/pip/_vendor/pkg_resources/__init__.py\", line 3264, in _initialize_master_working_set\n",
            "    working_set = WorkingSet._build_master()\n",
            "  File \"/usr/local/lib/python3.7/dist-packages/pip/_vendor/pkg_resources/__init__.py\", line 574, in _build_master\n",
            "    ws = cls()\n",
            "  File \"/usr/local/lib/python3.7/dist-packages/pip/_vendor/pkg_resources/__init__.py\", line 567, in __init__\n",
            "    self.add_entry(entry)\n",
            "  File \"/usr/local/lib/python3.7/dist-packages/pip/_vendor/pkg_resources/__init__.py\", line 623, in add_entry\n",
            "    for dist in find_distributions(entry, True):\n",
            "  File \"/usr/local/lib/python3.7/dist-packages/pip/_vendor/pkg_resources/__init__.py\", line 2065, in find_on_path\n",
            "    for dist in factory(fullpath):\n",
            "  File \"/usr/local/lib/python3.7/dist-packages/pip/_vendor/pkg_resources/__init__.py\", line 2135, in distributions_from_metadata\n",
            "    root, entry, metadata, precedence=DEVELOP_DIST,\n",
            "  File \"/usr/local/lib/python3.7/dist-packages/pip/_vendor/pkg_resources/__init__.py\", line 2592, in from_location\n",
            "    py_version=py_version, platform=platform, **kw\n",
            "  File \"/usr/local/lib/python3.7/dist-packages/pip/_vendor/pkg_resources/__init__.py\", line 2571, in __init__\n",
            "    self._version = safe_version(version)\n",
            "  File \"/usr/local/lib/python3.7/dist-packages/pip/_vendor/pkg_resources/__init__.py\", line 1331, in safe_version\n",
            "    return str(packaging.version.Version(version))\n",
            "  File \"/usr/local/lib/python3.7/dist-packages/pip/_vendor/packaging/version.py\", line 301, in __init__\n",
            "    self._version = _Version(\n",
            "KeyboardInterrupt\n",
            "\n",
            "During handling of the above exception, another exception occurred:\n",
            "\n",
            "Traceback (most recent call last):\n",
            "  File \"/usr/local/bin/pip3\", line 5, in <module>\n",
            "    from pip._internal.cli.main import main\n",
            "  File \"/usr/local/lib/python3.7/dist-packages/pip/_internal/cli/main.py\", line 9, in <module>\n",
            "    from pip._internal.cli.autocompletion import autocomplete\n",
            "  File \"/usr/local/lib/python3.7/dist-packages/pip/_internal/cli/autocompletion.py\", line 10, in <module>\n",
            "    from pip._internal.cli.main_parser import create_main_parser\n",
            "  File \"/usr/local/lib/python3.7/dist-packages/pip/_internal/cli/main_parser.py\", line 8, in <module>\n",
            "    from pip._internal.cli import cmdoptions\n",
            "  File \"/usr/local/lib/python3.7/dist-packages/pip/_internal/cli/cmdoptions.py\", line 23, in <module>\n",
            "    from pip._internal.cli.parser import ConfigOptionParser\n",
            "  File \"/usr/local/lib/python3.7/dist-packages/pip/_internal/cli/parser.py\", line 12, in <module>\n",
            "    from pip._internal.configuration import Configuration, ConfigurationError\n",
            "  File \"/usr/local/lib/python3.7/dist-packages/pip/_internal/configuration.py\", line 21, in <module>\n",
            "    from pip._internal.exceptions import (\n",
            "  File \"<frozen importlib._bootstrap>\", line 983, in _find_and_load\n",
            "  File \"<frozen importlib._bootstrap>\", line 967, in _find_and_load_unlocked\n",
            "  File \"<frozen importlib._bootstrap>\", line 677, in _load_unlocked\n",
            "KeyboardInterrupt\n",
            "\n",
            "The Top 10 keywords of the year 2021 are following:\n",
            "\n",
            "('Matter Hyperintensity Progression', 0.00013339348320859514)\n",
            "('Single Centre Experience', 0.00015642157558853453)\n",
            "('Centre Experience Assessing', 0.00015642157558853453)\n",
            "('Spinal Muscular Atrophy', 0.00018343650539378616)\n",
            "('European Countries Investigating', 0.00018343650539378616)\n",
            "('Social Leisure Activities', 0.00018343650539378616)\n",
            "('Leisure Activities Protective', 0.00018343650539378616)\n",
            "('Grey Matter Volume', 0.0002537897653699346)\n",
            "The Top 10 keywords of the year 2020 are following:\n",
            "\n",
            "('Electronic Health Record', 0.00022547607734765726)\n",
            "('Densely Connected CNN', 0.0003234067444554375)\n",
            "('Hippocampus MRI Data', 0.0004083014470416426)\n",
            "('Identify Hospitalized Patients', 0.00042657502712225404)\n",
            "('Electronic Clinical Quality', 0.00044197789114759964)\n",
            "('Connected CNN Model', 0.00048283473131257226)\n",
            "('Clinical Quality Measure', 0.0005152518368886186)\n",
            "('Factors Affecting Stroke', 0.0006322964891184532)\n",
            "The Top 10 keywords of the year 2018 are following:\n",
            "\n",
            "('Electronic Health Record', 4.6324100014809876e-05)\n",
            "('Health Record Data', 0.00015349165693860474)\n",
            "('Clinical Decision Support', 0.0002037212929568448)\n",
            "('Feedback Intervention Theory', 0.00023105161943825071)\n",
            "('Engagement Consultation Service', 0.00023105161943825071)\n",
            "('Electronic Medical Record', 0.0002905483591147805)\n",
            "('Philippines Biophysical Analyses', 0.0002945370912531013)\n",
            "('Future Direction Defining', 0.0002945370912531013)\n",
            "The Top 10 keywords of the year 2015 are following:\n",
            "\n",
            "('Arabidopsis DIFFERENTIAL EFFECTS', 0.00041690262896389407)\n",
            "('Clinical Decision Support', 0.0007840732574967832)\n",
            "('assembly Global Linking', 0.0007995193375016164)\n",
            "('Electronic Health Record', 0.0008516723171537783)\n",
            "('Electronic Clinical Quality', 0.0018101424755120072)\n",
            "('Italian Patients Effects', 0.0019033942867067372)\n",
            "('Electronic Medical Record', 0.001907526974134154)\n",
            "('Health Questions Patient', 0.0019362714797293902)\n",
            "The Top 10 keywords of the year 2019 are following:\n",
            "\n",
            "('Electronic Health Records', 0.00029651252878524245)\n",
            "('Clinical Decision Support', 0.0003827400207656758)\n",
            "('Clinical Data Research', 0.00045619220710452354)\n",
            "('Large Clinical Data', 0.0010522700915578465)\n",
            "('Data Research Network', 0.0010580968070820816)\n",
            "('Electronic Health', 0.0012007701027812445)\n",
            "('Distributed Health Data', 0.0012184728040130163)\n",
            "('Electronic Clinical Decision', 0.001309002544082113)\n",
            "The Top 10 keywords of the year 2014 are following:\n",
            "\n",
            "('Electronic Health Record', 4.562292192566021e-05)\n",
            "('Health Information Exchange', 5.420782457180507e-05)\n",
            "('Concept Annotation Problem', 8.786644287967464e-05)\n",
            "('Drug Labels Adapting', 9.17871650651575e-05)\n",
            "('Public Data Sets', 9.957486011615172e-05)\n",
            "('Data Sharing Preferences', 9.996002920111135e-05)\n",
            "('Clinical Data Repository', 0.00010374780593143271)\n",
            "('Health Record Data', 0.00011064305609800878)\n",
            "The Top 10 keywords of the year 2016 are following:\n",
            "\n",
            "('Electronic Health Record', 2.2689299311951884e-05)\n",
            "('United States Modeling', 0.00010414447557390025)\n",
            "('Health Record Data', 0.00010517083557747467)\n",
            "('Clinical Study Data', 0.00011517188863694152)\n",
            "('Observational Clinical Data', 0.00011610479029870628)\n",
            "('State Parental Perceptions', 0.00012199276446352636)\n",
            "('York State Parental', 0.00012391283267629763)\n",
            "('Veteran Health Information', 0.0001311330582183004)\n",
            "The Top 10 keywords of the year 2002 are following:\n",
            "\n",
            "('Small Nuclear RNA', 4.533716702448886e-05)\n",
            "('Small Nucleolar RNAs', 4.8499234434415996e-05)\n",
            "('Mouse Liver Protein', 4.850940766215998e-05)\n",
            "('Small RNAs RNA', 5.038067915108716e-05)\n",
            "('Trypanosomatids Small Nucleolar', 5.0459623685532784e-05)\n",
            "('Small RNAs Reduces', 5.2417247174785525e-05)\n",
            "('Finger Proteins Involved', 5.2637406420694365e-05)\n",
            "('Analysis Genetic Analysis', 6.201214536816655e-05)\n",
            "The Top 10 keywords of the year 2017 are following:\n",
            "\n",
            "('Electronic Health Records', 4.693710490219337e-05)\n",
            "('Traumatic Brain Injury', 0.00012854830297741464)\n",
            "('Spinal Cord Injury', 0.00015103458894308812)\n",
            "('Health Record Data', 0.00016685226707243488)\n",
            "('Measuring Workload Demand', 0.00019315619337791166)\n",
            "('Body Mass Index', 0.00019315619337791166)\n",
            "('Mining Electronic Health', 0.00020041080247386875)\n",
            "('Case Demand Index', 0.00021235177711684857)\n",
            "The Top 10 keywords of the year 2012 are following:\n",
            "\n",
            "('Electronic Health Record', 8.817363356549577e-05)\n",
            "('Clinical Decision Support', 0.00016119668153253639)\n",
            "('Ectomesenchymal Stem Cells', 0.00023347259904719488)\n",
            "('Invading Blood Vessels', 0.00028405076158728206)\n",
            "('Cytidine Deaminase DNA', 0.00028405076158728206)\n",
            "('Deaminase DNA Deamination', 0.00028405076158728206)\n",
            "('Health Information Exchange', 0.0003791561040241397)\n",
            "('Health Record Data', 0.0005659250549793638)\n",
            "The Top 10 keywords of the year 2013 are following:\n",
            "\n",
            "('Electronic Health Records', 8.039173474025418e-05)\n",
            "('Sedentary Video Games', 0.0001602895927852689)\n",
            "('Health Information Exchange', 0.00018519702932145584)\n",
            "('City Clinical Practices', 0.00026148782418793147)\n",
            "('York City Clinical', 0.0003269866965643046)\n",
            "('Medical Home Practices', 0.00033335443471923495)\n",
            "('Electronic Medical Records', 0.0003852792523069921)\n",
            "('Activity-Promoting Video Game', 0.00047325308212205235)\n",
            "The Top 10 keywords of the year 2011 are following:\n",
            "\n",
            "('Electronic Health Records', 0.0001234690584793154)\n",
            "('Health Information Exchange', 0.00018040444565526112)\n",
            "('Health Information Technology', 0.00023022224291144896)\n",
            "('Word Sequence Variation', 0.0002446245327589375)\n",
            "('Mild Traumatic Brain', 0.0002446245327589375)\n",
            "('Traumatic Brain Injury', 0.0002446245327589375)\n",
            "('Random Fields Understanding', 0.0002446245327589375)\n",
            "('Health Disclosure Laws', 0.0002677726140423243)\n",
            "The Top 10 keywords of the year 2007 are following:\n",
            "\n",
            "('Clinical Decision Support', 6.901630054198732e-05)\n",
            "('Health Information Networks', 0.00014108693175946525)\n",
            "('Semantic Information Evaluation', 0.00021746640583485843)\n",
            "('Clinical Information System', 0.0002500090452666664)\n",
            "('Electronic Health Record', 0.0002889541892983093)\n",
            "('UMLS Semantic Network', 0.0003267575182523292)\n",
            "('Information Networks Assessing', 0.0003604666758281982)\n",
            "('Personal Health Records', 0.00044343967034796795)\n",
            "The Top 10 keywords of the year 2010 are following:\n",
            "\n",
            "('Electronic Health Record', 1.9589701328866477e-05)\n",
            "('Clinical Decision Support', 4.074011859880352e-05)\n",
            "('Electronic Medical Record', 4.440277454346827e-05)\n",
            "('Natural Language Processing', 4.6436927116254096e-05)\n",
            "('Health Record Platform', 4.723153266946076e-05)\n",
            "('Integrating Direct Electronic', 5.211705931643818e-05)\n",
            "('Electronic Form Design', 6.418746272855622e-05)\n",
            "('Efficient Bayesian Method', 6.695248103887313e-05)\n",
            "The Top 10 keywords of the year 2008 are following:\n",
            "\n",
            "('Electronic Medical Record', 9.814978853661262e-05)\n",
            "('Clinical Decision Support', 0.00010841516781293119)\n",
            "('health care system', 0.00012560900319540544)\n",
            "('Adding Medication Histories', 0.00016642588594728552)\n",
            "('Clinical Information Re-engineering', 0.0001816382460351286)\n",
            "('Electronic Health Records', 0.00018996293199198566)\n",
            "('Information Re-engineering Opportunities', 0.00019454929478624706)\n",
            "('Regenstrief Medication Hub', 0.0002150639727461214)\n",
            "The Top 10 keywords of the year 2009 are following:\n",
            "\n",
            "('Clinical Information System', 8.663478018256873e-05)\n",
            "('Electronic Health Record', 8.795715462332605e-05)\n",
            "('Clinical Decision Support', 9.64073914063495e-05)\n",
            "('Electronic Medical Records', 0.00010117720212136771)\n",
            "('Peptide Subsidized Contraception', 0.0001721082999490163)\n",
            "('Hydrophilic Peptide Subsidized', 0.00017381389129345585)\n",
            "('White Hat Bias', 0.0002192910034444831)\n",
            "('Synthetic Polymer Nanoparticles', 0.00022146568776023153)\n",
            "The Top 10 keywords of the year 2004 are following:\n",
            "\n",
            "('Direct IADL Measure', 0.00018550919338160987)\n",
            "('IADL Measure Detect', 0.00018550919338160987)\n",
            "('Measure Detect Deficits', 0.00018550919338160987)\n",
            "('Persons with MCI', 0.0027366367535859625)\n",
            "('Direct IADL', 0.003242916817013426)\n",
            "('IADL Measure', 0.003242916817013426)\n",
            "('Measure Detect', 0.003242916817013426)\n",
            "('Detect Deficits', 0.003242916817013426)\n",
            "The Top 10 keywords of the year 2006 are following:\n",
            "\n",
            "('Clinical Decision Support', 0.00022142285196463245)\n",
            "('Electronic Health Record', 0.00023344692117910072)\n",
            "('Electronic Medical Record', 0.00023349251964431428)\n",
            "('Health Information Technology', 0.00049075046485614)\n",
            "('Clinical Information Systems', 0.0005145436136128052)\n",
            "('Health Record System', 0.0005819583311432534)\n",
            "('medical record system', 0.0005820718888124698)\n",
            "('Health Record Data', 0.0006615173149524474)\n",
            "The Top 10 keywords of the year 2005 are following:\n",
            "\n",
            "('Cape Verde kite', 0.00025011140746276786)\n",
            "('Prioritizing species conservation', 0.00039261605559303103)\n",
            "('Verde kite exist', 0.00039261605559303103)\n",
            "('bacterial microcosms Reputation', 0.00039325614922613316)\n",
            "('population dynamics Niches', 0.00040573608984469556)\n",
            "('paper wasp Genomic', 0.0004611085937925056)\n",
            "('wasp Genomic compatibility', 0.0004611085937925056)\n",
            "('Genomic compatibility occurs', 0.0004611085937925056)\n",
            "The Top 10 keywords of the year 2003 are following:\n",
            "\n",
            "('Physician Order Entry', 0.00011374216803451407)\n",
            "('electronic medical record', 0.00013087544518187668)\n",
            "('Decision support systems', 0.00014483392973911675)\n",
            "('Order Entry System', 0.00014692050681937774)\n",
            "('Clinical Decision Support', 0.00018610689276604984)\n",
            "('Computerized Physician Order', 0.00021311126228233782)\n",
            "('Clinical Information System', 0.00021626581264406764)\n",
            "('Care Support System', 0.00046094739507036283)\n",
            "The Top 10 keywords of the year 2001 are following:\n",
            "\n",
            "('Fumaric acid production', 0.005061745688945959)\n",
            "('Accelerated Sodium Excretion', 0.006165537626766891)\n",
            "('Chronic Obstructive Pulmonary', 0.006182256063224477)\n",
            "('Rats Exhaled Breath', 0.006241849972989252)\n",
            "('Medical Record System', 0.0063098250907863635)\n",
            "('Docosahexaenoic Acid Ingestion', 0.0063733242320640655)\n",
            "('Arthritis Fumaric acid', 0.0063733242320640655)\n",
            "('ODS Rats Effect', 0.006610770265997074)\n",
            "The Top 10 keywords of the year 2000 are following:\n",
            "\n",
            "('European Commission DGXIII', 0.000272252694111577)\n",
            "('European Commission', 0.004316120368156304)\n",
            "('Commission DGXIII', 0.004316120368156304)\n",
            "('international integrated telemedicine', 0.01604861338565662)\n",
            "('Regional and international', 0.03068998858225639)\n",
            "('organ transplant', 0.03068998858225639)\n",
            "('Primary Care Model-based', 0.03409088994785989)\n",
            "('international integrated', 0.03483301078030752)\n",
            "The Top 10 keywords of the year 1998 are following:\n",
            "\n",
            "('Efficiently Maintain', 0.0044853802797344584)\n",
            "('Maintain the Integrity', 0.0044853802797344584)\n",
            "('Knowledge Engineer Tool', 0.006451889478949837)\n",
            "('Electronic Medical Record', 0.008057086329034568)\n",
            "('stem-cell post-transplant long-term', 0.010080144942528879)\n",
            "('post-transplant long-term follow-up', 0.010080144942528879)\n",
            "('system', 0.014131705436553545)\n",
            "('computerized knowledge-support system', 0.014304352015067844)\n",
            "The Top 10 keywords of the year 1996 are following:\n",
            "\n",
            "('diabetic patient management', 0.021704381788440478)\n",
            "('intelligent data analysis', 0.0278850173298573)\n",
            "('World Wide Web', 0.036001085141224354)\n",
            "('information', 0.04184920162439905)\n",
            "('analysis in diabetic', 0.04326602853224161)\n",
            "('Web', 0.04747686048667469)\n",
            "('Natural Language Processing', 0.05610158026092168)\n",
            "('care', 0.06226796566204565)\n",
            "The Top 10 keywords of the year 1997 are following:\n",
            "\n",
            "('merging multiple legacy', 0.008298133545729636)\n",
            "('multiple legacy databases', 0.008298133545729636)\n",
            "('Month Experience Nurses', 0.013947077011110502)\n",
            "('World Wide Web', 0.025948826170235653)\n",
            "('Electronic Mail Consultations', 0.03010246587004842)\n",
            "('merging multiple', 0.0358316211507357)\n",
            "('legacy databases', 0.0358316211507357)\n",
            "('clinical data repository', 0.03608606278970566)\n",
            "The Top 10 keywords of the year 1995 are following:\n",
            "\n",
            "('Support for information', 0.03491537602823697)\n",
            "('information management', 0.05695550697646169)\n",
            "('management in critical', 0.05695550697646169)\n",
            "('approach to identify', 0.05695550697646169)\n",
            "('critical care', 0.11635984525237528)\n",
            "('Support', 0.14533572323085503)\n",
            "('patient care setting', 0.14624082127698823)\n",
            "('care setting', 0.2000778483630907)\n",
            "The Top 10 keywords of the year 1991 are following:\n",
            "\n",
            "('information system', 0.0037458111137096384)\n",
            "('system', 0.003935040083529282)\n",
            "('Clinical Information System', 0.0041884112240754496)\n",
            "('medical', 0.004515516479419091)\n",
            "('medical information systems', 0.005465930105430284)\n",
            "('information', 0.008098994256238385)\n",
            "('hospital information system', 0.008719671862396234)\n",
            "('Medical Language System', 0.011348611179651337)\n",
            "The Top 10 keywords of the year 1994 are following:\n",
            "\n",
            "('Catabolite Repression inSaccharomyces', 0.001185739112327361)\n",
            "('Quick Medical Reference', 0.0017227563341758298)\n",
            "('Repression inSaccharomyces cerevisiae', 0.00423756798314831)\n",
            "('kidney transplantation Accuracy', 0.004403943038652273)\n",
            "('Catabolite Repression', 0.00478180952256319)\n",
            "('Reference and Iliad', 0.004914120317027075)\n",
            "('Emulating cognitive diagnostic', 0.009876919448637582)\n",
            "('Renal cortex neuronal', 0.015603465077891808)\n",
            "The Top 10 keywords of the year 1993 are following:\n",
            "\n",
            "('system', 0.011346611095627526)\n",
            "('patient', 0.019364715788148523)\n",
            "('information system', 0.021255008436181392)\n",
            "('expert system', 0.02567491842872248)\n",
            "('clinical information system', 0.026083180111765265)\n",
            "('medical', 0.026440035601779207)\n",
            "('consumers make informed', 0.026692097045992062)\n",
            "('care', 0.027431175779425172)\n",
            "The Top 10 keywords of the year 1992 are following:\n",
            "\n",
            "('system', 0.011694067440825557)\n",
            "('information', 0.017812114839015753)\n",
            "('medical', 0.020532055326711984)\n",
            "('clinical', 0.022772792357591016)\n",
            "('Information System', 0.03145758981565231)\n",
            "('systems', 0.03842336444842684)\n",
            "('data', 0.03972271637270634)\n",
            "('medical information systems', 0.04195614087669401)\n",
            "The Top 10 keywords of the year 1990 are following:\n",
            "\n",
            "('Clinical Information System', 1.629359996625945e-05)\n",
            "('Expert System Expert', 2.1354497973512238e-05)\n",
            "('System Expert Systems', 2.723306307000991e-05)\n",
            "('Hospital Information System', 2.886343693093988e-05)\n",
            "('Medical Expert System', 3.5228938717146165e-05)\n",
            "('Outpatient Clinical Information', 4.159431286750466e-05)\n",
            "('Statistical Expert Systems', 4.1804917829311185e-05)\n",
            "('Information Management System', 5.5318042650385314e-05)\n",
            "The Top 10 keywords of the year 1989 are following:\n",
            "\n",
            "('Medical Information System', 2.353177774924414e-06)\n",
            "('System Medical Knowledge', 2.453764517912236e-06)\n",
            "('Medical Expert Systems', 2.459231684753073e-06)\n",
            "('Hospital Information System', 2.5812712216898866e-06)\n",
            "('Clinical Information System', 2.855212678900917e-06)\n",
            "('Medical Knowledge Base', 3.2826392470668405e-06)\n",
            "('Database Management Systems', 3.845672259822504e-06)\n",
            "('Medical Language System', 4.161451434369629e-06)\n",
            "The Top 10 keywords of the year 1988 are following:\n",
            "\n",
            "('Hospital Information System', 1.0282443459746488e-06)\n",
            "('Medical Knowledge Bases', 1.3737510305175832e-06)\n",
            "('Nursing Information Systems', 1.5568799892296442e-06)\n",
            "('Hospital Computer Systems', 4.540123226084061e-06)\n",
            "('Information System Network', 4.680061996224586e-06)\n",
            "('Laboratory Information Systems', 4.918741096965269e-06)\n",
            "('Expert Systems Development', 4.925975674785609e-06)\n",
            "('Medical Language System', 4.962019909068739e-06)\n",
            "The Top 10 keywords of the year 1987 are following:\n",
            "\n",
            "('Hospital Information System', 3.2709642794536677e-06)\n",
            "('Patient Information System', 1.1525170639989235e-05)\n",
            "('Laboratory Information System', 1.3298888292508859e-05)\n",
            "('Instructional Information Systems', 1.716921265971398e-05)\n",
            "('Networked Hospital Information', 1.7746827730216897e-05)\n",
            "('Care Information System', 1.990047392425627e-05)\n",
            "('Patient Care Information', 2.035956467112545e-05)\n",
            "('Distributed Information Systems', 2.037507792163444e-05)\n",
            "The Top 10 keywords of the year 1986 are following:\n",
            "\n",
            "('Information Systems Medical', 3.18909381983885e-05)\n",
            "('Medical Information System', 3.189093819838851e-05)\n",
            "('Systems Medical Computers', 3.6479698432136135e-05)\n",
            "('Clinical Information System', 3.666145942175049e-05)\n",
            "('Information System Applications', 3.775208387634703e-05)\n",
            "('Hospital Information System', 4.3114519934180224e-05)\n",
            "('Computerized Medical Information', 4.4987321934508784e-05)\n",
            "('Based Systems Technology', 4.8101942117416374e-05)\n",
            "The Top 10 keywords of the year 1985 are following:\n",
            "\n",
            "('Hospital Information System', 1.4986637071666723e-05)\n",
            "('Computerized Information Systems', 1.9615040591370405e-05)\n",
            "('Burn Information System', 2.231784211165467e-05)\n",
            "('Clinical Information System', 4.684397799622573e-05)\n",
            "('Library Information System', 5.2634281620567596e-05)\n",
            "('Medical Expert Systems', 6.188552081831581e-05)\n",
            "('Information System', 6.598835525882121e-05)\n",
            "('Information System Patient', 6.701163642656368e-05)\n",
            "The Top 10 keywords of the year 1983 are following:\n",
            "\n",
            "('Based Morbidity Screening', 0.00013917288589446067)\n",
            "('Installing COSTAR Diagnosis', 0.00015005687923819)\n",
            "('Interpersonal Skills Assessment', 0.00015005687923819)\n",
            "('COSTAR Diagnosis Related', 0.00015874100717724247)\n",
            "('Diagnosis Related Groups', 0.00015874100717724247)\n",
            "('Radiological Image Processing', 0.00015874100717724247)\n",
            "('Image Processing Facility', 0.00015874100717724247)\n",
            "('Computerized Position Requisition', 0.00015874100717724247)\n",
            "The Top 10 keywords of the year 1982 are following:\n",
            "\n",
            "('Medical Information System', 0.0002172731405936497)\n",
            "('Centralized Medical Data', 0.0002499628934406165)\n",
            "('Medical Data Base', 0.0002932529700873721)\n",
            "('Data Bases Medical', 0.0002932529700873721)\n",
            "('Clinical Data System', 0.0003574576831758086)\n",
            "('Data Base System', 0.00037311478442561373)\n",
            "('Pocket Medical Record', 0.00038588175374550836)\n",
            "('Data Base Management', 0.0003887834412215609)\n",
            "The Top 10 keywords of the year 1981 are following:\n",
            "\n",
            "('Clinical Consultation Systems', 3.682359257232871e-05)\n",
            "('Hospital Information Systems', 3.924690678658242e-05)\n",
            "('System Information System', 4.437837486781911e-05)\n",
            "('Data Base Management', 4.575493129389773e-05)\n",
            "('Radiology Information Systems', 5.368204568809779e-05)\n",
            "('Information System Computers', 5.9355773934283234e-05)\n",
            "('Medical Information Systems', 6.001077672856754e-05)\n",
            "('Information System Bayesian', 6.496643087628623e-05)\n"
          ]
        }
      ],
      "source": [
        "# Your python code here:\n",
        "\n",
        "\n",
        "!pip install yake\n",
        "print()\n",
        "import pandas as ps\n",
        "import matplotlib.pyplot as mpl\n",
        "import yake\n",
        "import seaborn as sea\n",
        "\n",
        "fd = ps.read_csv(\"https://raw.githubusercontent.com/unt-iialab/info5502-spring2022/main/datasets/lab_assignment_05_amia_cleaned.csv\", sep=\",\")\n",
        "fd = fd[fd['year'].isna()!=True]\n",
        "fd['year'] = fd['year'].astype('int64')\n",
        "for y in fd['year'].unique():\n",
        "    print(\"The Top 10 keywords of the year {} are following:\".format(y))\n",
        "    print()\n",
        "    max_ngram_size = 1\n",
        "    l = \"en\"\n",
        "    Nkeywords = 8\n",
        "    t = \" \".join(title for title in fd[fd['year']==y]['title'].values)\n",
        "    custom_kw_extractor = yake.KeywordExtractor(lan=l, top=Nkeywords, features=None)\n",
        "    keyword = custom_kw_extractor.extract_keywords(t)\n",
        "\n",
        "    for k in keyword:\n",
        "        \n",
        "        print(k)\n",
        "        print()\n",
        "\n",
        "\n",
        "    "
      ]
    },
    {
      "cell_type": "code",
      "source": [
        ""
      ],
      "metadata": {
        "id": "M3HNM_KLKXO1"
      },
      "execution_count": null,
      "outputs": []
    }
  ],
  "metadata": {
    "kernelspec": {
      "display_name": "Python 3",
      "language": "python",
      "name": "python3"
    },
    "language_info": {
      "codemirror_mode": {
        "name": "ipython",
        "version": 3
      },
      "file_extension": ".py",
      "mimetype": "text/x-python",
      "name": "python",
      "nbconvert_exporter": "python",
      "pygments_lexer": "ipython3",
      "version": "3.8.5"
    },
    "colab": {
      "name": "lab_assignment_05.ipynb",
      "provenance": [],
      "include_colab_link": true
    }
  },
  "nbformat": 4,
  "nbformat_minor": 0
}