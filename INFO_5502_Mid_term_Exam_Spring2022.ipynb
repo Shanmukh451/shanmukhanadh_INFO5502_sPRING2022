{
  "cells": [
    {
      "cell_type": "markdown",
      "metadata": {
        "id": "view-in-github",
        "colab_type": "text"
      },
      "source": [
        "<a href=\"https://colab.research.google.com/github/Shanmukh451/shanmukhanadh_INFO5502_sPRING2022/blob/main/INFO_5502_Mid_term_Exam_Spring2022.ipynb\" target=\"_parent\"><img src=\"https://colab.research.google.com/assets/colab-badge.svg\" alt=\"Open In Colab\"/></a>"
      ]
    },
    {
      "cell_type": "markdown",
      "metadata": {
        "id": "BgcF2ISolNaj"
      },
      "source": [
        "### INFO 5502 Mid-term Exam (03/10/2022, 80 points in total)"
      ]
    },
    {
      "cell_type": "code",
      "source": [
        "import numpy as np\n",
        "from datascience import*"
      ],
      "metadata": {
        "colab": {
          "base_uri": "https://localhost:8080/"
        },
        "id": "OznLZbOW35V7",
        "outputId": "61bf9e48-5592-449f-a500-91ad1c9c5868"
      },
      "execution_count": 30,
      "outputs": [
        {
          "output_type": "stream",
          "name": "stderr",
          "text": [
            "/usr/local/lib/python3.7/dist-packages/datascience/tables.py:17: MatplotlibDeprecationWarning: The 'warn' parameter of use() is deprecated since Matplotlib 3.1 and will be removed in 3.3.  If any parameter follows 'warn', they should be pass as keyword, not positionally.\n",
            "  matplotlib.use('agg', warn=False)\n",
            "/usr/local/lib/python3.7/dist-packages/datascience/util.py:10: MatplotlibDeprecationWarning: The 'warn' parameter of use() is deprecated since Matplotlib 3.1 and will be removed in 3.3.  If any parameter follows 'warn', they should be pass as keyword, not positionally.\n",
            "  matplotlib.use('agg', warn=False)\n"
          ]
        }
      ]
    },
    {
      "cell_type": "markdown",
      "metadata": {
        "id": "l7_-A8UXlNan"
      },
      "source": [
        "<span style='background:yellow'>**Question 1 (5 pt).**</span> Make an array called `weird_numbers` containing the following numbers (in the given order):\n",
        "\n",
        "1. -3\n",
        "2. the sine of 2.1\n",
        "3. 5\n",
        "4. 4 to the power of the cosine of 4.2\n",
        "\n",
        "*Hint:* `sin` and `cos` are functions in the `math` module."
      ]
    },
    {
      "cell_type": "code",
      "execution_count": 9,
      "metadata": {
        "colab": {
          "base_uri": "https://localhost:8080/"
        },
        "id": "i7L4ocvylNao",
        "outputId": "06fb4b89-e033-4aa9-e306-6ebbc7ca9779"
      },
      "outputs": [
        {
          "output_type": "execute_result",
          "data": {
            "text/plain": [
              "array([-3.        ,  0.86320937,  5.        ,  0.50679646])"
            ]
          },
          "metadata": {},
          "execution_count": 9
        }
      ],
      "source": [
        "#### You code here\n",
        "import math\n",
        "import numpy as np\n",
        "weird_numbers=np.array([-3, math.sin(2.1),5,4**(math.cos(4.2))])\n",
        "weird_numbers\n"
      ]
    },
    {
      "cell_type": "code",
      "source": [
        ""
      ],
      "metadata": {
        "id": "7Byotxra336F"
      },
      "execution_count": null,
      "outputs": []
    },
    {
      "cell_type": "markdown",
      "metadata": {
        "id": "ST26-XhylNap"
      },
      "source": [
        "<span style='background:yellow'>**Question 2 (5 pt).**</span> Write a simple function that takes in a number (weight in pounds) and returns a number which is the coreesponding conversion to kg.\n",
        "\n",
        "Test it by calling the function on 15 and 27. E.g., `convert_pounds_to_kg(15)`, `convert_pounds_to_kg(27)`. Print both to screen.\n",
        "\n",
        "Hint: 1 pound = 0.453592 kg"
      ]
    },
    {
      "cell_type": "code",
      "execution_count": 14,
      "metadata": {
        "colab": {
          "base_uri": "https://localhost:8080/"
        },
        "id": "xQLJur4PlNap",
        "outputId": "4fad056f-7fce-4778-d5ab-198c9bf28845"
      },
      "outputs": [
        {
          "output_type": "stream",
          "name": "stdout",
          "text": [
            "6.8038799999999995\n",
            "12.246984\n"
          ]
        }
      ],
      "source": [
        "#### You code here\n",
        "\n",
        "def convert_pounds_to_kg(number):\n",
        "    kg = number * 0.453592\n",
        "    return kg\n",
        "print(convert_pounds_to_kg(15))\n",
        "print(convert_pounds_to_kg(27))\n"
      ]
    },
    {
      "cell_type": "markdown",
      "metadata": {
        "id": "tgIniqFOlNap"
      },
      "source": [
        "<span style='background:yellow'>**Question 3 (5 pt).**</span> We've loaded an array of temperatures in the next cell.  Each number is the highest temperature observed on a day at a climate observation station, mostly from the US.  Since they're from the US government agency [NOAA](noaa.gov), all the temperatures are in Fahrenheit.  Convert them all to Celsius by first subtracting 32 from them, then multiplying the results by $\\frac{5}{9}$. Make sure to **ROUND** the final result after converting to Celsius to the nearest integer using the `np.round` function. Download the data from here: https://github.com/unt-iialab/info5502-spring2022/blob/main/datasets/temperatures.csv"
      ]
    },
    {
      "cell_type": "code",
      "execution_count": 33,
      "metadata": {
        "colab": {
          "base_uri": "https://localhost:8080/"
        },
        "id": "u16uNnsVlNaq",
        "outputId": "3d9de6c7-2167-48c7-d23c-cd2cac23cf17"
      },
      "outputs": [
        {
          "output_type": "execute_result",
          "data": {
            "text/plain": [
              "array([-4., 31., 32., ..., 17., 23., 16.])"
            ]
          },
          "metadata": {},
          "execution_count": 33
        }
      ],
      "source": [
        "#### You code her\n",
        "\n",
        "max_temperatures = Table.read_table(\"/content/drive/MyDrive/temperatures.csv\").column(\"Daily Max Temperature\")\n",
        "\n",
        "celsius_max_temperatures=np.round((max_temperatures-32)*(5/9))\n",
        "\n",
        "celsius_max_temperatures\n",
        "\n"
      ]
    },
    {
      "cell_type": "code",
      "source": [
        "from google.colab import drive\n",
        "drive.mount('/content/drive')"
      ],
      "metadata": {
        "colab": {
          "base_uri": "https://localhost:8080/"
        },
        "id": "zPYliw7sw6N1",
        "outputId": "15fd13c1-261e-4f48-806d-6c6d41ad8061"
      },
      "execution_count": 41,
      "outputs": [
        {
          "output_type": "stream",
          "name": "stdout",
          "text": [
            "Drive already mounted at /content/drive; to attempt to forcibly remount, call drive.mount(\"/content/drive\", force_remount=True).\n"
          ]
        }
      ]
    },
    {
      "cell_type": "markdown",
      "metadata": {
        "id": "1NHtihnzlNar"
      },
      "source": [
        "<span style='background:yellow'>**Question 4 (5 pt).**</span> Suppose you have 4 apples, 3 oranges, and 3 pineapples.  (Perhaps you're using Python to solve a high school Algebra problem.)  Create a table that contains this information.  It should have two columns: `fruit name` and `count`.  Assign the new table to the variable `fruits`.\n",
        "\n",
        "**Note:** Use lower-case and singular words for the name of each fruit, like `\"apple\"`."
      ]
    },
    {
      "cell_type": "code",
      "execution_count": 35,
      "metadata": {
        "colab": {
          "base_uri": "https://localhost:8080/",
          "height": 143
        },
        "id": "WhvTh5g7lNar",
        "outputId": "866e8ef5-1930-41cd-89a0-f208274c9cff"
      },
      "outputs": [
        {
          "output_type": "execute_result",
          "data": {
            "text/html": [
              "<table border=\"1\" class=\"dataframe\">\n",
              "    <thead>\n",
              "        <tr>\n",
              "            <th>fruitname</th> <th>count</th>\n",
              "        </tr>\n",
              "    </thead>\n",
              "    <tbody>\n",
              "        <tr>\n",
              "            <td>apples    </td> <td>4    </td>\n",
              "        </tr>\n",
              "        <tr>\n",
              "            <td>oranges   </td> <td>3    </td>\n",
              "        </tr>\n",
              "        <tr>\n",
              "            <td>pineapples</td> <td>3    </td>\n",
              "        </tr>\n",
              "    </tbody>\n",
              "</table>"
            ],
            "text/plain": [
              "fruitname  | count\n",
              "apples     | 4\n",
              "oranges    | 3\n",
              "pineapples | 3"
            ]
          },
          "metadata": {},
          "execution_count": 35
        }
      ],
      "source": [
        "#### You code here\n",
        "\n",
        "\n",
        "fruits = Table().with_columns('fruitname',make_array('apples','oranges','pineapples'),'count',make_array(4,3,3))\n",
        "fruits"
      ]
    },
    {
      "cell_type": "markdown",
      "metadata": {
        "id": "SRRvoUy-lNas"
      },
      "source": [
        "<span style='background:yellow'>**Question 5 (10 pt).**</span> Below we load a table containing 200,000 weekday Uber rides in the Boston, Massachusetts metropolitan area from the [Uber Movement](https://movement.uber.com) project. The `sourceid` and `dstid` columns contain codes corresponding to start and end locations of each ride. The `hod` column contains codes corresponding to the hour of the day the ride took place. The `ride time` column contains the length of the ride, in minutes. Produce a histogram of all ride times in Boston using the given bins. Download the data from here: https://github.com/unt-iialab/info5502-spring2022/blob/main/datasets/boston.csv"
      ]
    },
    {
      "cell_type": "code",
      "execution_count": 51,
      "metadata": {
        "colab": {
          "base_uri": "https://localhost:8080/"
        },
        "id": "GujbDooKlNas",
        "outputId": "aca3e9e4-a41c-413a-a43d-9ab078d6761e"
      },
      "outputs": [
        {
          "output_type": "execute_result",
          "data": {
            "text/plain": [
              "(array([1.2940e+04, 3.2718e+04, 4.9111e+04, 4.6579e+04, 2.9898e+04,\n",
              "        1.5426e+04, 7.3020e+03, 3.4240e+03, 1.4740e+03, 6.1300e+02,\n",
              "        2.6800e+02, 1.1400e+02, 5.4000e+01, 2.2000e+01, 1.1000e+01,\n",
              "        5.0000e+00, 4.0000e+00, 0.0000e+00, 1.0000e+00, 0.0000e+00,\n",
              "        0.0000e+00, 1.0000e+00, 1.0000e+00]),\n",
              " array([  0,   5,  10,  15,  20,  25,  30,  35,  40,  45,  50,  55,  60,\n",
              "         65,  70,  75,  80,  85,  90,  95, 100, 105, 110, 115]),\n",
              " <a list of 23 Patch objects>)"
            ]
          },
          "metadata": {},
          "execution_count": 51
        }
      ],
      "source": [
        "#### You code here\n",
        "import matplotlib.pyplot as plt\n",
        "import pandas as pd\n",
        "eq=np.arange(0,120,5)\n",
        "B=Table.read_table(\"/content/drive/MyDrive/boston.csv\")\n",
        "\n",
        "plt.hist(B.column('ride time'),eq)\n",
        "\n",
        "\n",
        "\n"
      ]
    },
    {
      "cell_type": "markdown",
      "metadata": {
        "id": "Aw3OUFNPlNat"
      },
      "source": [
        "<span style='background:yellow'>**Question 6 (20 pt).**</span> Below is a dataset we collected from this website: https://ddr.densho.org/narrators/?page=1. Narrators are the interview subjects of oral histories contained in the Densho Digital Repository. The interviewees, or narrators, share their life histories to preserve history, educate the public, and promote tolerance. We urge our users to approach these materials in the same spirit. You are required to conduct the exploratory data analysis on the location, year of born, generation, and gender. Please select the best visualiztions to present your results. Download the data from here: https://github.com/unt-iialab/info5502-spring2022/blob/main/datasets/Combined-data.xlsx"
      ]
    },
    {
      "cell_type": "code",
      "execution_count": null,
      "metadata": {
        "id": "aXhDePZElNat"
      },
      "outputs": [],
      "source": [
        "#### You code here\n",
        "\n",
        "\n",
        "\n",
        "\n"
      ]
    },
    {
      "cell_type": "markdown",
      "metadata": {
        "id": "Wm4TL9kHlNau"
      },
      "source": [
        "<span style='background:yellow'>**Question 7.**</span> **Monkeys Typing Shakespeare** A monkey is banging repeatedly on the keys of a typewriter. Each time, the monkey is equally likely to hit any of the 26 lowercase letters of the English alphabet, 26 uppercase letters of the English alphabet, and any number between 0-9 (inclusive), regardless of what it has hit before. There are no other keys on the keyboard.  \n",
        "\n",
        "This question is inspired by a mathematical theorem called the Infinite monkey theorem (<https://en.wikipedia.org/wiki/Infinite_monkey_theorem>), which postulates that if you put a monkey in the situation described above for an infinite time, they will eventually type out all of Shakespeare’s works."
      ]
    },
    {
      "cell_type": "markdown",
      "metadata": {
        "id": "Hn64UQ3ElNau"
      },
      "source": [
        "<span style='background:yellow'>**Question 7-1 (10 pt).**</span> Suppose the monkey hits the keyboard 5 times.  Compute the chance that the monkey types the sequence `Data8`.  (Call this `data_chance`.) Use algebra and type in an arithmetic equation that Python can evalute."
      ]
    },
    {
      "cell_type": "code",
      "execution_count": null,
      "metadata": {
        "id": "rRJ2fXamlNau"
      },
      "outputs": [],
      "source": [
        "#### You code here\n",
        "\n",
        "\n"
      ]
    },
    {
      "cell_type": "markdown",
      "metadata": {
        "id": "srhtps1BlNau"
      },
      "source": [
        "<span style='background:yellow'>**Question 7-2 (10 pt).**</span> Write a function called `simulate_key_strike`.  It should take **no arguments**, and it should return a random one-character string that is equally likely to be any of the 26 lower-case English letters, 26 upper-case English letters, or any number between 0-9 (inclusive). "
      ]
    },
    {
      "cell_type": "code",
      "execution_count": 61,
      "metadata": {
        "colab": {
          "base_uri": "https://localhost:8080/",
          "height": 35
        },
        "id": "X5qoAJOBlNav",
        "outputId": "c8174397-d5cd-44ce-b8f7-409c55597481"
      },
      "outputs": [
        {
          "output_type": "execute_result",
          "data": {
            "application/vnd.google.colaboratory.intrinsic+json": {
              "type": "string"
            },
            "text/plain": [
              "'p'"
            ]
          },
          "metadata": {},
          "execution_count": 61
        }
      ],
      "source": [
        "#### You code here\n",
        "\n",
        "import string\n",
        "\n",
        "# making a list that contain all upper, lower case Alphabets and also digits\n",
        "k=list(string.ascii_lowercase+string.ascii_uppercase+string.digits)\n",
        "# funtion to return random key of above list\n",
        "def simulate_key_strike():\n",
        "  return np.random.choice(k)\n",
        "simulate_key_strike() \n"
      ]
    },
    {
      "cell_type": "markdown",
      "metadata": {
        "id": "64ie3zP0lNav"
      },
      "source": [
        "<span style='background:yellow'>**Question 7-3 (10 pt).**</span> Write a function called `simulate_several_key_strikes`.  It should take one argument: an integer specifying the number of key strikes to simulate. It should return a string containing that many characters, each one obtained from simulating a key strike by the monkey.\n",
        "\n",
        "*Hint:* If you make a list or array of the simulated key strikes called `key_strikes_array`, you can convert that to a string by calling `\"\".join(key_strikes_array)`"
      ]
    },
    {
      "cell_type": "code",
      "execution_count": 62,
      "metadata": {
        "colab": {
          "base_uri": "https://localhost:8080/",
          "height": 35
        },
        "id": "ocM4CL_klNav",
        "outputId": "a0484967-8a8a-43df-adb1-8e30db24c393"
      },
      "outputs": [
        {
          "output_type": "execute_result",
          "data": {
            "application/vnd.google.colaboratory.intrinsic+json": {
              "type": "string"
            },
            "text/plain": [
              "'JgoqF8R5G0W'"
            ]
          },
          "metadata": {},
          "execution_count": 62
        }
      ],
      "source": [
        "#### You code here\n",
        "k=list(string.ascii_lowercase+string.ascii_uppercase+string.digits)\n",
        "# funtion to return random key of above list\n",
        "def simulate_key_strike(n):\n",
        "  return (\"\".join(np.random.choice(k) for i in range(n)))\n",
        "\n",
        "simulate_key_strike(11) \n",
        "\n"
      ]
    }
  ],
  "metadata": {
    "kernelspec": {
      "display_name": "Python 3",
      "language": "python",
      "name": "python3"
    },
    "language_info": {
      "codemirror_mode": {
        "name": "ipython",
        "version": 3
      },
      "file_extension": ".py",
      "mimetype": "text/x-python",
      "name": "python",
      "nbconvert_exporter": "python",
      "pygments_lexer": "ipython3",
      "version": "3.8.5"
    },
    "colab": {
      "name": "INFO 5502-Mid-term Exam-Spring2022.ipynb",
      "provenance": [],
      "include_colab_link": true
    }
  },
  "nbformat": 4,
  "nbformat_minor": 0
}