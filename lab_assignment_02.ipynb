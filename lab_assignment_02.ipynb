{
  "cells": [
    {
      "cell_type": "markdown",
      "metadata": {
        "id": "view-in-github",
        "colab_type": "text"
      },
      "source": [
        "<a href=\"https://colab.research.google.com/github/Shanmukh451/shanmukhanadh_INFO5502_sPRING2022/blob/main/lab_assignment_02.ipynb\" target=\"_parent\"><img src=\"https://colab.research.google.com/assets/colab-badge.svg\" alt=\"Open In Colab\"/></a>"
      ]
    },
    {
      "cell_type": "markdown",
      "metadata": {
        "id": "Ryk8D1Q4Wsrp"
      },
      "source": [
        "# **The second Lab-assignment (02/04/2022, 50 points in total)**"
      ]
    },
    {
      "cell_type": "markdown",
      "metadata": {
        "id": "90_NR8c5XGWc"
      },
      "source": [
        "# Question 1\n",
        "\n",
        "(5 points). Write a Python program to generate 12 random numbers between 1 and 100. Sort the list of numbers in ascending order and print it out. Sort the list of numbers in descending order and print it out. Calculate the average for the group and print it out."
      ]
    },
    {
      "cell_type": "code",
      "execution_count": 68,
      "metadata": {
        "colab": {
          "base_uri": "https://localhost:8080/"
        },
        "id": "5QX6bJjGWXY9",
        "outputId": "8a8e3629-11a6-49e5-b898-5ecaa81b87e4"
      },
      "outputs": [
        {
          "output_type": "stream",
          "name": "stdout",
          "text": [
            "list in ascending order :  [2, 2, 3, 14, 18, 29, 54, 55, 55, 88, 90, 95]\n",
            "List in descending order : [95, 90, 88, 55, 55, 54, 29, 18, 14, 3, 2, 2]\n",
            "Average of the list : 42.083333333333336\n"
          ]
        }
      ],
      "source": [
        "# Your code here\n",
        "import random\n",
        "from statistics import mean\n",
        "c=0\n",
        "slist = []\n",
        "for i in range(0,100):\n",
        "  while c<12:\n",
        "    x = random.randint(1,100)\n",
        "    slist.append(x)\n",
        "    c+=1\n",
        "slist.sort()\n",
        "print(\"list in ascending order : \",slist)\n",
        "print(\"List in descending order :\",sorted(slist,reverse=True))\n",
        "print(\"Average of the list :\", mean(slist))\n"
      ]
    },
    {
      "cell_type": "markdown",
      "metadata": {
        "id": "1F_PZdH9Sh49"
      },
      "source": [
        "# Question 2\n",
        "(20 points). Write a program that will do the following string formatting tasks:\n",
        "\n",
        "(1) Ask the user to enter two sentences.\n",
        "\n",
        "(2) Make each sentence into a list. Each element in the list should correspond to a word in the sentence. For example, if the sentence is \"Alas! Am I alive? This is my first python program\", the program should print out ['Alas, '!', 'Am', 'I', 'alive, '?', 'This', 'is', 'my', 'first', 'python', 'program'].\n",
        "\n",
        "(3) Compare the two sentences. Print out a list of words that occur in both sentences.\n",
        "\n",
        "(4) Remove any punctuation from the sentence and print it back out. It should remove at least the following characters, but it can remove more: period(“.”), comma (“,”), semicolon (“;”), and colon (“:”)\n",
        "\n",
        "(5) Count the number of vowels in the sentences. Print out each vowel and the number of times it appears in the sentences, such as: a:2, e:1, i:0, etc"
      ]
    },
    {
      "cell_type": "code",
      "execution_count": 70,
      "metadata": {
        "colab": {
          "base_uri": "https://localhost:8080/"
        },
        "id": "Y0oOSlsOS0cq",
        "outputId": "1a9e17b4-d314-4434-b42b-09240b47f072"
      },
      "outputs": [
        {
          "name": "stdout",
          "output_type": "stream",
          "text": [
            "Enter the first sentence: Alas! Am I alive? This is my first python program\n",
            "Enter the first sentence: is this is \n"
          ]
        }
      ],
      "source": [
        "import string\n",
        "import re\n",
        "from string import punctuation \n",
        "\n",
        "# question 1\n",
        "ft=input(\"Enter the first sentence: \")\n",
        "sd=input(\"Enter the first sentence: \")\n",
        "\n",
        "\n"
      ]
    },
    {
      "cell_type": "code",
      "source": [
        "#question 2\n",
        "ft1=re.findall(r\"[\\w']+|[.,!?;:]\",ft)\n",
        "sd1=re.findall(r\"[\\w']+|[.,!?;:]\",sd)\n",
        "\n",
        "print(ft1)\n",
        "print(sd1)\n"
      ],
      "metadata": {
        "colab": {
          "base_uri": "https://localhost:8080/"
        },
        "id": "JRZX8Ujet2rS",
        "outputId": "fdb9a4de-3d33-41ca-9561-e105400553a1"
      },
      "execution_count": 71,
      "outputs": [
        {
          "output_type": "stream",
          "name": "stdout",
          "text": [
            "['Alas', '!', 'Am', 'I', 'alive', '?', 'This', 'is', 'my', 'first', 'python', 'program']\n",
            "['is', 'this', 'is']\n"
          ]
        }
      ]
    },
    {
      "cell_type": "code",
      "source": [
        "#question 3\n",
        "print(\"\\n Common words\")\n",
        "for i in ft1:\n",
        "  for j in sd1:\n",
        "    if i.lower() == j.lower():\n",
        "      print(i)\n"
      ],
      "metadata": {
        "colab": {
          "base_uri": "https://localhost:8080/"
        },
        "id": "eavSGoiYt3Iy",
        "outputId": "150e58b0-15b0-432e-9566-c142de0eae87"
      },
      "execution_count": 72,
      "outputs": [
        {
          "output_type": "stream",
          "name": "stdout",
          "text": [
            "\n",
            " Common words\n",
            "This\n",
            "is\n",
            "is\n"
          ]
        }
      ]
    },
    {
      "cell_type": "code",
      "source": [
        "#question 4\n",
        "punc = '''!()-[]{};:'\"\\,<>./?@#$%^&*_~'''\n",
        "for i in ft:\n",
        "    if i in punc:\n",
        "        ft = ft.replace(i, \"\")\n",
        "for i in ft:\n",
        "    if i in punc:\n",
        "        sd = sd.replace(i, \"\")\n",
        "  \n",
        "print(ft)\n",
        "print(sd)"
      ],
      "metadata": {
        "colab": {
          "base_uri": "https://localhost:8080/"
        },
        "id": "5H_XSQ-qt3W5",
        "outputId": "49496d11-76e2-48a8-bc8a-65741b27481b"
      },
      "execution_count": 73,
      "outputs": [
        {
          "output_type": "stream",
          "name": "stdout",
          "text": [
            "Alas Am I alive This is my first python program\n",
            "is this is \n"
          ]
        }
      ]
    },
    {
      "cell_type": "code",
      "source": [
        "# question 5\n",
        "vow={'a':0,'e':0,'i':0,'o':0,'u':0}\n",
        "for i in ft:\n",
        "  if i.lower() in vow:\n",
        "    vow[i.lower()]+=1\n",
        "\n",
        "for i in sd:\n",
        "  if i.lower() in vow:\n",
        "    vow[i.lower()]+=1\n",
        "\n",
        "print(\"\\n vowel:\",vow)  "
      ],
      "metadata": {
        "colab": {
          "base_uri": "https://localhost:8080/"
        },
        "id": "81hmZiG1uDGw",
        "outputId": "3fa6a3c9-c63f-4325-a9bf-8deb46fedff6"
      },
      "execution_count": 74,
      "outputs": [
        {
          "output_type": "stream",
          "name": "stdout",
          "text": [
            "\n",
            " vowel: {'a': 5, 'e': 1, 'i': 8, 'o': 2, 'u': 0}\n"
          ]
        }
      ]
    },
    {
      "cell_type": "markdown",
      "metadata": {
        "id": "CmFoI4jDS9nx"
      },
      "source": [
        "# Question 3 \n",
        "\n",
        "(5 points). The formula that describes the volume V of a sphere with radius r is the following:\n",
        "\n",
        "$ V=\\frac{4}{3}\\ast\\ \\pi\\ast\\ r^3 $\n",
        "\n",
        "Write a program to calculate the value of V when r is in the range of 1–10. Output the result in the following format:\n",
        "\n",
        "\tr\tV\n",
        "\t1\t…\n",
        "\t2\t…\n",
        "\t3\t…\n"
      ]
    },
    {
      "cell_type": "code",
      "execution_count": 75,
      "metadata": {
        "colab": {
          "base_uri": "https://localhost:8080/"
        },
        "id": "pEyqeioAT95b",
        "outputId": "e43e5896-b663-41c9-a4e9-bd83a4e76362"
      },
      "outputs": [
        {
          "output_type": "stream",
          "name": "stdout",
          "text": [
            "r   v\n",
            "1   4.1887902047863905\n",
            "2   33.510321638291124\n",
            "3   113.09733552923255\n",
            "4   268.082573106329\n",
            "5   523.5987755982989\n",
            "6   904.7786842338604\n",
            "7   1436.755040241732\n",
            "8   2144.660584850632\n",
            "9   3053.628059289279\n",
            "10   4188.790204786391\n"
          ]
        }
      ],
      "source": [
        "# Your code here\n",
        "print(\"r   v\")\n",
        "for i in range(1,11):\n",
        "   Volume=(4/3)*pi*i*i*i\n",
        "  \n",
        "   print(i,\" \",Volume)\n"
      ]
    },
    {
      "cell_type": "markdown",
      "metadata": {
        "id": "z3tBE7E-Xn5X"
      },
      "source": [
        "# Question 4\n",
        "\n",
        "(20 points). In the field of Data Science, data is often formatted as a comma-delimited (CSV) file, where each line in a file corresponds to a field's value. Refer to Chapter 9 (p. 106) for more information on comma-delimited files. To answer this question, you will need to download the file [lab_assignment_02_denton_housing.csv](https://raw.githubusercontent.com/unt-iialab/info5502-spring2022/main/datasets/lab_assignment_02_denton_housing.csv) included with this assignment. The file [lab_assignment_02_denton_housing.csv](https://raw.githubusercontent.com/unt-iialab/info5502-spring2022/main/datasets/lab_assignment_02_denton_housing.csv) contains statistics about housing in the city of Denton from 2008 to 2014. Write a program to implement the following questions.\n",
        "\n",
        "(1) (10 pts) Calculate the difference in the number of Occupied Housing Units from year to year and print it. The difference must be calculated for the consecutive years such as 2008-2009, 2009-2010 etc. Finally, print the values in the ascending order.\n",
        "\n",
        "(2) (10 pts) For all the years, calculate the percentage of housing units which are vacant an occupied. Print the results in the following format:\n",
        "\n",
        "Year Vacant Housing Units Occupied Housing Units\n",
        "\n",
        "    2008  30%   70%                          \n",
        "\t2009 ----- -----\n",
        "\t2010 ----- -----\n",
        "    2011 ----- -----\n",
        "\t2012 ----- -----\n",
        "    2013 ----- -----\n",
        "\t2014 ----- -----\n",
        "  \n",
        "  \n",
        "\n",
        "(3) (10 pts) Calculate and print the valued and years in which the highest number of housing units were vacant and occupied. Print the results in the following format:  \n",
        "\n",
        "                              Year\tValue\n",
        "\tVacant Housing Units\t  -----   -----\n",
        "\tOccupied Housing Units\t-----   -----\n",
        "\n",
        "(4) (10 pts) Calculate the harmonic mean of the total housing units and print it out. You can find the information about harmonic mean here: https://ncalculators.com/statistics/harmonic-mean-calculator.htm"
      ]
    },
    {
      "cell_type": "code",
      "execution_count": 80,
      "metadata": {
        "colab": {
          "base_uri": "https://localhost:8080/"
        },
        "id": "lqGYuHBhcsRH",
        "outputId": "29de894c-08c8-4623-8730-6ec3d518bc4d"
      },
      "outputs": [
        {
          "output_type": "stream",
          "name": "stdout",
          "text": [
            "2011-2010  303.0\n",
            "2009-2008  795.0\n",
            "2012-2011  1404.0\n",
            "2013-2012  1565.0\n",
            "2014-2013  2622.0\n",
            "2010-2009  5091.0\n"
          ]
        },
        {
          "output_type": "stream",
          "name": "stderr",
          "text": [
            "/usr/local/lib/python3.7/dist-packages/pandas/util/_decorators.py:311: SettingWithCopyWarning: \n",
            "A value is trying to be set on a copy of a slice from a DataFrame\n",
            "\n",
            "See the caveats in the documentation: https://pandas.pydata.org/pandas-docs/stable/user_guide/indexing.html#returning-a-view-versus-a-copy\n",
            "  return func(*args, **kwargs)\n",
            "/usr/local/lib/python3.7/dist-packages/ipykernel_launcher.py:10: SettingWithCopyWarning: \n",
            "A value is trying to be set on a copy of a slice from a DataFrame.\n",
            "Try using .loc[row_indexer,col_indexer] = value instead\n",
            "\n",
            "See the caveats in the documentation: https://pandas.pydata.org/pandas-docs/stable/user_guide/indexing.html#returning-a-view-versus-a-copy\n",
            "  # Remove the CWD from sys.path while we load stuff.\n"
          ]
        }
      ],
      "source": [
        "#Question 1\n",
        "\n",
        "import pandas as pd\n",
        "import numpy as np\n",
        "\n",
        "s=pd.read_csv(\"https://raw.githubusercontent.com/unt-iialab/info5502-spring2022/main/datasets/lab_assignment_02_denton_housing.csv\")\n",
        "\n",
        "s1=s[s[\"title_field\"]=='Occupied Housing Units']\n",
        "s1.sort_values(by=['year'],ascending=True,inplace=True)\n",
        "s1[\"value_DIFF\"]=abs(s1[\"value\"].diff())\n",
        "s1=s1.dropna()\n",
        "s1=s1.reset_index(drop=True)\n",
        "s1.sort_values(by='value_DIFF',ascending=True,inplace=True)\n",
        "for i in s1.index:\n",
        "  print(str(s1['year'][i])+'-'+str(s1['year'][i]-1),'',s1['value_DIFF'][i])\n",
        "\n",
        "\n"
      ]
    },
    {
      "cell_type": "code",
      "source": [
        "import math\n",
        "vc=0.0\n",
        "Tot=0.0\n",
        "#s=s.reset_index(drop=True)\n",
        "for year in range(2008,2015):\n",
        "    vc=s[(s['year'] == year) & (s['title_field'] == 'Vacant Housing Units')]['value'].values[0]\n",
        "    vc2=s[(s['year'] == year) & (s['title_field'] == 'Occupied Housing Units')]['value'].values[0]\n",
        "    Tot=s[(s['year'] == year) & (s['title_field'] == 'Total Housing Units')]['value'].values[0] \n",
        "    Vacant_Percentage=round((vc/Tot)*100)\n",
        "    Occupant_Percentage=round((vc2/Tot)*100)\n",
        "    print(year,str(Vacant_Percentage)+'%','',str(Occupant_Percentage)+'%')\n",
        "\n",
        "\n"
      ],
      "metadata": {
        "colab": {
          "base_uri": "https://localhost:8080/"
        },
        "id": "8iqNb_O_oxli",
        "outputId": "ef104255-9920-49e1-ce67-d3af1be82c27"
      },
      "execution_count": 76,
      "outputs": [
        {
          "output_type": "stream",
          "name": "stdout",
          "text": [
            "2008 11%  89%\n",
            "2009 9%  91%\n",
            "2010 8%  92%\n",
            "2011 9%  91%\n",
            "2012 7%  93%\n",
            "2013 9%  91%\n",
            "2014 6%  94%\n"
          ]
        }
      ]
    },
    {
      "cell_type": "code",
      "source": [
        "#question 3\n",
        "print('                    ','Year','Value')\n",
        "j=['Vacant Housing Units','Occupied Housing Units']\n",
        "for i in ('Vacant Housing Units','Occupied Housing Units'):\n",
        "    vc3=s[(s['title_field'] == i)]['year'].max()\n",
        "    vc4=s[(s['title_field'] == i)]['value'].max()\n",
        "    print(j[0],vc3,vc4)\n",
        "\n"
      ],
      "metadata": {
        "colab": {
          "base_uri": "https://localhost:8080/"
        },
        "id": "ex2CcVI9qxZ4",
        "outputId": "abfd1ed5-2e97-4e5c-cdb5-3d597a89beca"
      },
      "execution_count": 65,
      "outputs": [
        {
          "output_type": "stream",
          "name": "stdout",
          "text": [
            "                     Year Value\n",
            "Vacant Housing Units 2014 4483\n",
            "Vacant Housing Units 2014 46295\n"
          ]
        }
      ]
    },
    {
      "cell_type": "code",
      "source": [
        "# question 4\n",
        "import statistics as st\n",
        "print(st.harmonic_mean(s[(s['title_field'] == 'Total Housing Units')]['value']))"
      ],
      "metadata": {
        "colab": {
          "base_uri": "https://localhost:8080/"
        },
        "id": "-cxVTcVAs-xx",
        "outputId": "0fd86c32-9dd9-40de-9ca0-ff7f405d568f"
      },
      "execution_count": 77,
      "outputs": [
        {
          "output_type": "stream",
          "name": "stdout",
          "text": [
            "44398.28543969185\n"
          ]
        }
      ]
    }
  ],
  "metadata": {
    "colab": {
      "collapsed_sections": [],
      "name": "lab_assignment_02.ipynb",
      "provenance": [],
      "toc_visible": true,
      "include_colab_link": true
    },
    "kernelspec": {
      "display_name": "Python 3",
      "language": "python",
      "name": "python3"
    },
    "language_info": {
      "codemirror_mode": {
        "name": "ipython",
        "version": 3
      },
      "file_extension": ".py",
      "mimetype": "text/x-python",
      "name": "python",
      "nbconvert_exporter": "python",
      "pygments_lexer": "ipython3",
      "version": "3.8.5"
    }
  },
  "nbformat": 4,
  "nbformat_minor": 0
}