{
  "cells": [
    {
      "cell_type": "markdown",
      "metadata": {
        "id": "view-in-github",
        "colab_type": "text"
      },
      "source": [
        "<a href=\"https://colab.research.google.com/github/Shanmukh451/shanmukhanadh_INFO5502_sPRING2022/blob/main/lab_assignment_04.ipynb\" target=\"_parent\"><img src=\"https://colab.research.google.com/assets/colab-badge.svg\" alt=\"Open In Colab\"/></a>"
      ]
    },
    {
      "cell_type": "markdown",
      "metadata": {
        "id": "pw_YDZWRLj7N"
      },
      "source": [
        "## The fourth Lab-assignment (02/17/2022, 50 points in total)"
      ]
    },
    {
      "cell_type": "markdown",
      "metadata": {
        "id": "LBbiC0EYLj7R"
      },
      "source": [
        "The purpose of this exercise is to understand Exploratory Data Analysis, we will practice the EDA by working on multiple datasets which have different characteristics."
      ]
    },
    {
      "cell_type": "markdown",
      "metadata": {
        "id": "o6KYdaaPLj7T"
      },
      "source": [
        "Question 1 (15 points). Understand a text corpus for domain-specific text classification. Download the dataset from the following link: https://osf.io/8mjcy/ . Conduct EDA of the dataset from the following aspects:\n",
        "\n",
        "(1) How many categories in total?\n",
        "\n",
        "(2) How many documents under each category?\n",
        "\n",
        "(3) What is the avergae number of sentence (on average)?\n",
        "\n",
        "(4) What is the average number of words (on average)?\n",
        "\n",
        "(5) Visualize the top 50 terms and rank the terms by frquency (remove stop words first: https://gist.github.com/sebleier/554280)."
      ]
    },
    {
      "cell_type": "code",
      "source": [
        "from google.colab import drive\n",
        "drive.mount('/content/gdrive')"
      ],
      "metadata": {
        "id": "ultnzFo1Mwco"
      },
      "execution_count": null,
      "outputs": []
    },
    {
      "cell_type": "code",
      "source": [
        ""
      ],
      "metadata": {
        "id": "D7VSm6jyLp9R"
      },
      "execution_count": null,
      "outputs": []
    },
    {
      "cell_type": "code",
      "source": [
        ""
      ],
      "metadata": {
        "colab": {
          "base_uri": "https://localhost:8080/"
        },
        "id": "9DZaTnP2URoN",
        "outputId": "cc155894-c4af-4a7f-e9f5-5d23c07ffda0"
      },
      "execution_count": null,
      "outputs": [
        {
          "output_type": "stream",
          "name": "stdout",
          "text": [
            "60 case0.txt\n",
            "The average no of sentences in all categories is: 16772.68\n",
            "The average no of sentences in all files is: 44.49\n"
          ]
        }
      ]
    },
    {
      "cell_type": "code",
      "source": [
        ""
      ],
      "metadata": {
        "colab": {
          "base_uri": "https://localhost:8080/"
        },
        "id": "0tH4nID_URyD",
        "outputId": "7059f0e3-b862-4189-ea5d-e1dd6ff7ad93"
      },
      "execution_count": null,
      "outputs": [
        {
          "output_type": "stream",
          "name": "stdout",
          "text": [
            "[nltk_data] Downloading package stopwords to /root/nltk_data...\n",
            "[nltk_data]   Package stopwords is already up-to-date!\n",
            "No columns to parse from file\n",
            "The average no of words in all categories is: 778977.42\n",
            "The average no of words in all files is: 2066.39\n"
          ]
        }
      ]
    },
    {
      "cell_type": "code",
      "source": [
        ""
      ],
      "metadata": {
        "colab": {
          "base_uri": "https://localhost:8080/"
        },
        "id": "xSSGxUIRUR78",
        "outputId": "aa49cf5f-625a-445a-8b16-2a80151633a4"
      },
      "execution_count": null,
      "outputs": [
        {
          "output_type": "stream",
          "name": "stdout",
          "text": [
            "Collecting stop_words\n",
            "  Downloading stop-words-2018.7.23.tar.gz (31 kB)\n",
            "Building wheels for collected packages: stop-words\n",
            "  Building wheel for stop-words (setup.py) ... \u001b[?25l\u001b[?25hdone\n",
            "  Created wheel for stop-words: filename=stop_words-2018.7.23-py3-none-any.whl size=32911 sha256=2fd657db0a4fea5191e445e32d7403286e1f3c8ca808aaffc2708b4e982f30e7\n",
            "  Stored in directory: /root/.cache/pip/wheels/fb/86/b2/277b10b1ce9f73ce15059bf6975d4547cc4ec3feeb651978e9\n",
            "Successfully built stop-words\n",
            "Installing collected packages: stop-words\n",
            "Successfully installed stop-words-2018.7.23\n"
          ]
        }
      ]
    },
    {
      "cell_type": "code",
      "execution_count": null,
      "metadata": {
        "id": "dvc4YPRhLj7f"
      },
      "outputs": [],
      "source": [
        ""
      ]
    },
    {
      "cell_type": "code",
      "execution_count": null,
      "metadata": {
        "colab": {
          "base_uri": "https://localhost:8080/"
        },
        "id": "mjjOm1DXLj7h",
        "outputId": "61102388-fb93-4e2b-f14d-f5948c269a05"
      },
      "outputs": [
        {
          "output_type": "execute_result",
          "data": {
            "text/plain": [
              "[('court', 916156),\n",
              " ('district', 369314),\n",
              " ('state', 239772),\n",
              " ('also', 219433),\n",
              " ('evidence', 191498),\n",
              " ('whether', 188683),\n",
              " ('may', 181455),\n",
              " ('law', 170105),\n",
              " ('states', 159112),\n",
              " ('must', 157517),\n",
              " ('claim', 155554),\n",
              " ('case', 155090),\n",
              " ('federal', 153748),\n",
              " ('trial', 143615),\n",
              " ('united', 142208),\n",
              " ('claims', 139883),\n",
              " ('one', 135032),\n",
              " ('judgment', 131761),\n",
              " ('action', 128018),\n",
              " ('order', 125673),\n",
              " ('first', 120898),\n",
              " ('government', 119460),\n",
              " ('section', 114944),\n",
              " ('defendant', 112804),\n",
              " ('act', 112065),\n",
              " ('review', 109952),\n",
              " ('issue', 108070),\n",
              " ('two', 107793),\n",
              " ('motion', 106487),\n",
              " ('rule', 105719),\n",
              " ('decision', 104992),\n",
              " ('new', 104222),\n",
              " ('time', 101834),\n",
              " ('plaintiff', 100273),\n",
              " ('plaintiffs', 97792),\n",
              " ('filed', 93814),\n",
              " ('public', 93576),\n",
              " ('made', 92313),\n",
              " ('statute', 91667),\n",
              " ('jury', 90656),\n",
              " ('right', 89591),\n",
              " ('defendants', 86703),\n",
              " ('found', 86236),\n",
              " ('parties', 86014),\n",
              " ('held', 85557),\n",
              " ('supreme', 84868),\n",
              " ('use', 82996),\n",
              " ('within', 79353),\n",
              " ('based', 79117),\n",
              " ('reasonable', 78489)]"
            ]
          },
          "metadata": {},
          "execution_count": 13
        }
      ],
      "source": [
        ""
      ]
    },
    {
      "cell_type": "code",
      "source": [
        ""
      ],
      "metadata": {
        "id": "AOcLdOWJscAz"
      },
      "execution_count": null,
      "outputs": []
    },
    {
      "cell_type": "code",
      "source": [
        ""
      ],
      "metadata": {
        "colab": {
          "base_uri": "https://localhost:8080/",
          "height": 639
        },
        "id": "OShJYHO6scCg",
        "outputId": "29b90af5-3ccc-4039-95d9-5ff269eff6a4"
      },
      "execution_count": null,
      "outputs": [
        {
          "output_type": "display_data",
          "data": {
            "image/png": "[encoded data removed]",
            "text/plain": [
              "<Figure size 1440x720 with 1 Axes>"
            ]
          },
          "metadata": {}
        }
      ]
    },
    {
      "cell_type": "code",
      "source": [
        ""
      ],
      "metadata": {
        "colab": {
          "base_uri": "https://localhost:8080/"
        },
        "id": "4gPckOJnCWBo",
        "outputId": "c0666d49-90f6-4786-f348-1b52d0c463c4"
      },
      "execution_count": null,
      "outputs": [
        {
          "output_type": "stream",
          "name": "stdout",
          "text": [
            "       Term Frequency  Rank\n",
            "0     court    916156     1\n",
            "1  district    369314     2\n",
            "2     state    239772     3\n",
            "3      also    219433     4\n",
            "4  evidence    191498     5\n",
            "5   whether    188683     6\n",
            "6       may    181455     7\n",
            "7       law    170105     8\n",
            "8    states    159112     9\n",
            "9      must    157517    10\n"
          ]
        }
      ]
    },
    {
      "cell_type": "code",
      "source": [
        ""
      ],
      "metadata": {
        "id": "0XBdtxwQscGt"
      },
      "execution_count": null,
      "outputs": []
    },
    {
      "cell_type": "markdown",
      "metadata": {
        "id": "3tqWRdmFLj7n"
      },
      "source": [
        "Question 2 (20 points). Continue practicing how to do simple exploratory data analysis with Python. The dataset that has been used in this question is called Student Academics Performance Data Set, which can be downloaded at: https://github.com/unt-iialab/info5502-spring2022/blob/main/datasets/lab-assignment-04-student-performance.csv . Please conduct the following analysis:\n",
        "\n",
        "(1) Description of all the columns: for each colmun, count number of rows, number of unqiue element, the frequency of each unqiue element. \n",
        "\n",
        "\n",
        "(2)  Visualize the count for each value in the 'Study Hours' column. Note: Study Hours values comes from this >= 6 hours Good >= 4 hours Average < 2 hours Poor.\n",
        "\n",
        "(3) Using factorplot to show the relationship between numerical and categorical value. Please use figure to show relation between [Study Hours] and [End Semester Percentage]. Percentage is calculated based on the following:\n",
        "\n",
        "if percentage >=80 then Best\n",
        "If percentage >= 60 but less than 80 then Very Good\n",
        "If percentage >= 45 but less than 60 then Good\n",
        "If Percentage >= 30 but less than 45 then Pass\n",
        "If Percentage < 30 then Fail\n",
        "\n",
        "(4) Get the correlation from the data, then plug it to heatmap function and show it as following:\n"
      ]
    },
    {
      "cell_type": "code",
      "execution_count": 3,
      "metadata": {
        "colab": {
          "base_uri": "https://localhost:8080/"
        },
        "id": "bwTGW93ULj7o",
        "outputId": "ab42d6d0-31ca-46e1-96da-b6033237c344"
      },
      "outputs": [
        {
          "output_type": "stream",
          "name": "stdout",
          "text": [
            "Column: ge\n",
            "Number of Rows: 131\n",
            "Number of Unique values in the column: 2\n",
            "M    72\n",
            "F    59\n",
            "Name: ge, dtype: int64\n",
            "\n",
            "Column: cst\n",
            "Number of Rows: 131\n",
            "Number of Unique values in the column: 5\n",
            "OBC     57\n",
            "G       44\n",
            "ST      20\n",
            "MOBC     6\n",
            "SC       4\n",
            "Name: cst, dtype: int64\n",
            "\n",
            "Column: tnp\n",
            "Number of Rows: 131\n",
            "Number of Unique values in the column: 4\n",
            "Good    59\n",
            "Vg      38\n",
            "Pass    25\n",
            "Best     9\n",
            "Name: tnp, dtype: int64\n",
            "\n",
            "Column: twp\n",
            "Number of Rows: 131\n",
            "Number of Unique values in the column: 4\n",
            "Good    65\n",
            "Vg      44\n",
            "Pass    17\n",
            "Best     5\n",
            "Name: twp, dtype: int64\n",
            "\n",
            "Column: iap\n",
            "Number of Rows: 131\n",
            "Number of Unique values in the column: 4\n",
            "Vg      63\n",
            "Good    53\n",
            "Best     8\n",
            "Pass     7\n",
            "Name: iap, dtype: int64\n",
            "\n",
            "Column: esp\n",
            "Number of Rows: 131\n",
            "Number of Unique values in the column: 4\n",
            "Good    54\n",
            "Vg      42\n",
            "Pass    27\n",
            "Best     8\n",
            "Name: esp, dtype: int64\n",
            "\n",
            "Column: arr\n",
            "Number of Rows: 131\n",
            "Number of Unique values in the column: 2\n",
            "N    78\n",
            "Y    53\n",
            "Name: arr, dtype: int64\n",
            "\n",
            "Column: ms\n",
            "Number of Rows: 131\n",
            "Number of Unique values in the column: 1\n",
            "Unmarried    131\n",
            "Name: ms, dtype: int64\n",
            "\n",
            "Column: ls\n",
            "Number of Rows: 131\n",
            "Number of Unique values in the column: 2\n",
            "V    92\n",
            "T    39\n",
            "Name: ls, dtype: int64\n",
            "\n",
            "Column: as\n",
            "Number of Rows: 131\n",
            "Number of Unique values in the column: 2\n",
            "Paid    76\n",
            "Free    55\n",
            "Name: as, dtype: int64\n",
            "\n",
            "Column: fmi\n",
            "Number of Rows: 131\n",
            "Number of Unique values in the column: 5\n",
            "Medium    63\n",
            "Am        27\n",
            "Low       20\n",
            "High      15\n",
            "Vh         6\n",
            "Name: fmi, dtype: int64\n",
            "\n",
            "Column: fs\n",
            "Number of Rows: 131\n",
            "Number of Unique values in the column: 3\n",
            "Small      89\n",
            "Average    40\n",
            "Large       2\n",
            "Name: fs, dtype: int64\n",
            "\n",
            "Column: fq\n",
            "Number of Rows: 131\n",
            "Number of Unique values in the column: 6\n",
            "Um        40\n",
            "10        23\n",
            "12        22\n",
            "Il        20\n",
            "Degree    20\n",
            "Pg         6\n",
            "Name: fq, dtype: int64\n",
            "\n",
            "Column: mq\n",
            "Number of Rows: 131\n",
            "Number of Unique values in the column: 6\n",
            "Um        52\n",
            "Il        27\n",
            "10        25\n",
            "12        17\n",
            "Degree     7\n",
            "Pg         3\n",
            "Name: mq, dtype: int64\n",
            "\n",
            "Column: fo\n",
            "Number of Rows: 131\n",
            "Number of Unique values in the column: 5\n",
            "Service     38\n",
            "Business    34\n",
            "Others      29\n",
            "Farmer      27\n",
            "Retired      3\n",
            "Name: fo, dtype: int64\n",
            "\n",
            "Column: mo\n",
            "Number of Rows: 131\n",
            "Number of Unique values in the column: 5\n",
            "Housewife    115\n",
            "Service       12\n",
            "Others         2\n",
            "Business       1\n",
            "Retired        1\n",
            "Name: mo, dtype: int64\n",
            "\n",
            "Column: nf\n",
            "Number of Rows: 131\n",
            "Number of Unique values in the column: 3\n",
            "Large      58\n",
            "Average    43\n",
            "Small      30\n",
            "Name: nf, dtype: int64\n",
            "\n",
            "Column: sh\n",
            "Number of Rows: 131\n",
            "Number of Unique values in the column: 3\n",
            "Average    59\n",
            "Poor       45\n",
            "Good       27\n",
            "Name: sh, dtype: int64\n",
            "\n",
            "Column: ss\n",
            "Number of Rows: 131\n",
            "Number of Unique values in the column: 2\n",
            "Govt       91\n",
            "Private    40\n",
            "Name: ss, dtype: int64\n",
            "\n",
            "Column: me\n",
            "Number of Rows: 131\n",
            "Number of Unique values in the column: 4\n",
            "Eng    62\n",
            "Asm    60\n",
            "Hin     7\n",
            "Ben     2\n",
            "Name: me, dtype: int64\n",
            "\n",
            "Column: tt\n",
            "Number of Rows: 131\n",
            "Number of Unique values in the column: 3\n",
            "Small      78\n",
            "Average    43\n",
            "Large      10\n",
            "Name: tt, dtype: int64\n",
            "\n",
            "Column: atd\n",
            "Number of Rows: 131\n",
            "Number of Unique values in the column: 3\n",
            "Good       56\n",
            "Average    47\n",
            "Poor       28\n",
            "Name: atd, dtype: int64\n",
            "\n"
          ]
        }
      ],
      "source": [
        "import pandas as ps\n",
        "myurl = 'https://raw.githubusercontent.com/unt-iialab/info5502-spring2022/main/datasets/lab-assignment-04-student-performance.csv'\n",
        "# now we ar geetingthe dta from the git source\n",
        "\n",
        "fd = ps.read_csv(myurl)\n",
        "\n",
        "for i in fd.columns:\n",
        "#printing the no ofcolumns\n",
        "    print(\"Column:\",i)\n",
        "#printing the Numer of rows\n",
        "    print(\"Number of Rows:\", fd[i].shape[0])\n",
        "#printing the unique values\n",
        "    print(\"Number of Unique values in the column:\", fd[i].value_counts().shape[0])\n",
        "#printing the  count \n",
        "    print(fd[i].value_counts())\n",
        "    print()\n"
      ]
    },
    {
      "cell_type": "code",
      "execution_count": 5,
      "metadata": {
        "colab": {
          "base_uri": "https://localhost:8080/",
          "height": 334
        },
        "id": "32gRskSFLj7p",
        "outputId": "d8ac88b5-8487-4f92-eaf1-5faddbf7a31e"
      },
      "outputs": [
        {
          "output_type": "stream",
          "name": "stderr",
          "text": [
            "/usr/local/lib/python3.7/dist-packages/seaborn/_decorators.py:43: FutureWarning: Pass the following variable as a keyword arg: x. From version 0.12, the only valid positional argument will be `data`, and passing other arguments without an explicit keyword will result in an error or misinterpretation.\n",
            "  FutureWarning\n"
          ]
        },
        {
          "output_type": "display_data",
          "data": {
            "image/png": "[encoded data removed]",
            "text/plain": [
              "<Figure size 432x288 with 1 Axes>"
            ]
          },
          "metadata": {
            "needs_background": "light"
          }
        }
      ],
      "source": [
        "# question 2- \n",
        "\n",
        "#import the required packages for visualizing the data\n",
        "import seaborn as sea\n",
        "import matplotlib.pyplot as mpl\n",
        "%matplotlib inline\n",
        "sea.countplot(fd['sh'])\n",
        "mpl.xlabel(\"Study Hours\")\n",
        "mpl.ylabel(\"Count\")\n",
        "mpl.show()"
      ]
    },
    {
      "cell_type": "code",
      "execution_count": 4,
      "metadata": {
        "colab": {
          "base_uri": "https://localhost:8080/",
          "height": 334
        },
        "id": "T1TAK5CxLj7q",
        "outputId": "d6826b96-e43e-45c9-cde2-a94336f2d291"
      },
      "outputs": [
        {
          "output_type": "stream",
          "name": "stderr",
          "text": [
            "/usr/local/lib/python3.7/dist-packages/seaborn/_decorators.py:43: FutureWarning: Pass the following variable as a keyword arg: x. From version 0.12, the only valid positional argument will be `data`, and passing other arguments without an explicit keyword will result in an error or misinterpretation.\n",
            "  FutureWarning\n"
          ]
        },
        {
          "output_type": "display_data",
          "data": {
            "image/png": "[encoded data removed]",
            "text/plain": [
              "<Figure size 432x288 with 1 Axes>"
            ]
          },
          "metadata": {
            "needs_background": "light"
          }
        }
      ],
      "source": [
        ""
      ]
    },
    {
      "cell_type": "code",
      "execution_count": 1,
      "metadata": {
        "id": "mxtE33dPLj7r"
      },
      "outputs": [],
      "source": [
        ""
      ]
    },
    {
      "cell_type": "markdown",
      "metadata": {
        "id": "AZ3Qn3H8Lj7s"
      },
      "source": [
        "Question 3 (15 points). Download a dataset from Kaggle or other sources. Propose three questions that you wanna to know from the dataset, then write python code to conduct EDA analysis to answer the three questions"
      ]
    },
    {
      "cell_type": "code",
      "execution_count": 1,
      "metadata": {
        "id": "hyD9dx-lLj7s"
      },
      "outputs": [],
      "source": [
        ""
      ]
    }
  ],
  "metadata": {
    "kernelspec": {
      "display_name": "Python 3 (ipykernel)",
      "language": "python",
      "name": "python3"
    },
    "language_info": {
      "codemirror_mode": {
        "name": "ipython",
        "version": 3
      },
      "file_extension": ".py",
      "mimetype": "text/x-python",
      "name": "python",
      "nbconvert_exporter": "python",
      "pygments_lexer": "ipython3",
      "version": "3.9.7"
    },
    "colab": {
      "name": "lab_assignment_04.ipynb",
      "provenance": [],
      "collapsed_sections": [],
      "include_colab_link": true
    }
  },
  "nbformat": 4,
  "nbformat_minor": 0
}