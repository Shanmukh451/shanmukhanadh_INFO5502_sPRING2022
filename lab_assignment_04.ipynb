{
  "cells": [
    {
      "cell_type": "markdown",
      "metadata": {
        "id": "view-in-github",
        "colab_type": "text"
      },
      "source": [
        "<a href=\"https://colab.research.google.com/github/Shanmukh451/shanmukhanadh_INFO5502_sPRING2022/blob/main/lab_assignment_04.ipynb\" target=\"_parent\"><img src=\"https://colab.research.google.com/assets/colab-badge.svg\" alt=\"Open In Colab\"/></a>"
      ]
    },
    {
      "cell_type": "markdown",
      "metadata": {
        "id": "FoiR5YP1rAMi"
      },
      "source": [
        "## The fourth Lab-assignment (02/17/2022, 50 points in total)"
      ]
    },
    {
      "cell_type": "markdown",
      "metadata": {
        "id": "6bNpLiE3rAMj"
      },
      "source": [
        "The purpose of this exercise is to understand Exploratory Data Analysis, we will practice the EDA by working on multiple datasets which have different characteristics."
      ]
    },
    {
      "cell_type": "markdown",
      "metadata": {
        "id": "2K7yrLCHrAMj"
      },
      "source": [
        "Question 1 (15 points). Understand a text corpus for domain-specific text classification. Download the dataset from the following link: https://osf.io/8mjcy/ . Conduct EDA of the dataset from the following aspects:\n",
        "\n",
        "(1) How many categories in total?\n",
        "\n",
        "(2) How many documents under each category?\n",
        "\n",
        "(3) What is the avergae number of sentence (on average)?\n",
        "\n",
        "(4) What is the average number of words (on average)?\n",
        "\n",
        "(5) Visualize the top 50 terms and rank the terms by frquency (remove stop words first: https://gist.github.com/sebleier/554280)."
      ]
    },
    {
      "cell_type": "code",
      "execution_count": null,
      "metadata": {
        "id": "1GuL0THnrAMk"
      },
      "outputs": [],
      "source": [
        "# Your answer here (code + explanation):\n",
        "\n",
        "\n",
        "\n"
      ]
    },
    {
      "cell_type": "markdown",
      "metadata": {
        "id": "3lJ9x7CNrAMl"
      },
      "source": [
        "Question 2 (20 points). Continue practicing how to do simple exploratory data analysis with Python. The dataset that has been used in this question is called Student Academics Performance Data Set, which can be downloaded at: https://github.com/unt-iialab/info5502-spring2022/blob/main/datasets/lab-assignment-04-student-performance.csv . Please conduct the following analysis:\n",
        "\n",
        "(1) Description of all the columns: for each colmun, count number of rows, number of unqiue element, the frequency of each unqiue element. \n",
        "\n",
        "\n",
        "(2)  Visualize the count for each value in the 'Study Hours' column. Note: Study Hours values comes from this >= 6 hours Good >= 4 hours Average < 2 hours Poor.\n",
        "\n",
        "(3) Using factorplot to show the relationship between numerical and categorical value. Please use figure to show relation between [Study Hours] and [End Semester Percentage]. Percentage is calculated based on the following:\n",
        "\n",
        "if percentage >=80 then Best\n",
        "If percentage >= 60 but less than 80 then Very Good\n",
        "If percentage >= 45 but less than 60 then Good\n",
        "If Percentage >= 30 but less than 45 then Pass\n",
        "If Percentage < 30 then Fail\n",
        "\n",
        "(4) Get the correlation from the data, then plug it to heatmap function and show it as following:\n",
        "\n",
        "![heatmap.png](attachment:heatmap.png)"
      ]
    },
    {
      "cell_type": "code",
      "execution_count": null,
      "metadata": {
        "id": "Tr5DymDfrAMl"
      },
      "outputs": [],
      "source": [
        "# Your answer here (code + explanation):\n",
        "\n",
        "\n",
        "\n",
        "\n",
        "\n",
        "\n"
      ]
    },
    {
      "cell_type": "markdown",
      "metadata": {
        "id": "pjKb9MK0rAMl"
      },
      "source": [
        "Question 3 (15 points). Download a dataset from Kaggle or other sources. Propose three questions that you wanna to know from the dataset, then write python code to conduct EDA analysis to answer the three questions"
      ]
    },
    {
      "cell_type": "code",
      "execution_count": null,
      "metadata": {
        "id": "UkbNb_uLrAMm",
        "outputId": "477dbfc8-9721-4a5a-bd10-58fef91dc875"
      },
      "outputs": [
        {
          "data": {
            "text/plain": [
              "'\\nPlease list your questions here:\\n\\n\\n\\n\\n\\n'"
            ]
          },
          "execution_count": 7,
          "metadata": {},
          "output_type": "execute_result"
        }
      ],
      "source": [
        "# Your three questions:\n",
        "\n",
        "'''\n",
        "Please list your questions here:\n",
        "\n",
        "\n",
        "\n",
        "\n",
        "\n",
        "'''"
      ]
    },
    {
      "cell_type": "code",
      "execution_count": null,
      "metadata": {
        "id": "BS7xxvborAMm"
      },
      "outputs": [],
      "source": [
        "# You code to answer the three questions (Please add comments in the code):\n",
        "\n",
        "\n",
        "\n",
        "\n",
        "\n",
        "\n"
      ]
    }
  ],
  "metadata": {
    "kernelspec": {
      "display_name": "Python 3",
      "language": "python",
      "name": "python3"
    },
    "language_info": {
      "codemirror_mode": {
        "name": "ipython",
        "version": 3
      },
      "file_extension": ".py",
      "mimetype": "text/x-python",
      "name": "python",
      "nbconvert_exporter": "python",
      "pygments_lexer": "ipython3",
      "version": "3.8.5"
    },
    "colab": {
      "name": "lab_assignment_04.ipynb",
      "provenance": [],
      "include_colab_link": true
    }
  },
  "nbformat": 4,
  "nbformat_minor": 0
}